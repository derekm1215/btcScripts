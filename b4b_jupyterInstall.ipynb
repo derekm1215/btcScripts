{
 "cells": [
  {
   "cell_type": "markdown",
   "metadata": {},
   "source": [
    "# Boto for Bozos: Prologue\n",
    "## Getting Started"
   ]
  },
  {
   "cell_type": "markdown",
   "metadata": {},
   "source": [
    "___"
   ]
  },
  {
   "cell_type": "markdown",
   "metadata": {},
   "source": [
    "##### *These notebooks assume you have a working knowledge of Python. There are great tutorials out there to get you started, if there's enough demand, I might be able to put together a quick intro. Please leave comments or reach out if this is the case!*\n",
    "___"
   ]
  },
  {
   "cell_type": "markdown",
   "metadata": {},
   "source": [
    "#### Perform all operations in these tutorials at your own risk! If you mistype and get compromised, blow up your production systems, or explode your bank account, please don't blame me; you've been warned! "
   ]
  },
  {
   "cell_type": "markdown",
   "metadata": {},
   "source": [
    "This series of tutorials assumes you have already assigned a role with the required admin permissions to the instances on which these scripts are running. If you need more information on this, check out the docs here: https://docs.aws.amazon.com/AWSEC2/latest/UserGuide/iam-roles-for-amazon-ec2.html\n",
    "\n",
    "Also, make sure you lock down your Jupyter Notebook and other control instances to your personal IP address ONLY. There is no negotiation here. If these instances are accessible to the outside world, you're asking for trouble, and don't say I didn't warn you! If you want to configure a VPN, that's even better!\n",
    "\n",
    "Finally, I use roles for a reason. Dealing with API keys when Cloud9, EC2 roles, etc. are available is just silly. Seriously, make it easy on yourself and work from within your AWS environment and don't try to work from anywhere that may allow an API key to be exposed. Also, .gitignore is your friend!\n",
    "\n",
    "Ok, now that all the warnings are out of the way, let's get started! "
   ]
  },
  {
   "cell_type": "markdown",
   "metadata": {},
   "source": [
    "### Jupyter Notebook setup"
   ]
  },
  {
   "cell_type": "markdown",
   "metadata": {},
   "source": [
    "First thing you may want to do if you want to follow my guide to the \"T\" is to create a Jupyter Notebook server. This is *Not Required* but it will certainly make it easier to follow along. Below, you will see a bash script that you can use to deploy a Jupyter Notebook server on an Amazon Linux EC2 server. \n",
    "\n",
    "1. Copy the code and add it to a .sh file named what you desire. \"jupyter_install.sh\" is a good option. <br>\n",
    "    *Note: You can also pull down the script from Github as well. \n",
    "2. Once you have done that, perform a `chmod +x jupyter_install.sh` to make it executable. \n",
    "3. Run the script with `./jupyter_install.sh`\n",
    "\n",
    "Just run the script, answer the questions (defaults are fine for 99% of cases), and access the server afterwards using the password you provide. Once you have done that, we can attach an elastic IP to the instance and ensure we have a static IP address.\n",
    "\n",
    "The script will work within Amazon Linux EC2 and Cloud9 instances. If you wish to use Ubuntu, you will need to modify it accordingly."
   ]
  },
  {
   "cell_type": "markdown",
   "metadata": {},
   "source": [
    "### The Jupyter Notebook Install script:\n",
    "https://github.com/derekm1215/btcScripts/blob/master/jupyter_install.sh\n",
    "\n",
    "```\n",
    "wget https://repo.continuum.io/miniconda/Miniconda3-latest-Linux-x86_64.sh\n",
    "sudo chmod +x Miniconda3-latest-Linux-x86_64.sh\n",
    "./Miniconda3-latest-Linux-x86_64.sh\n",
    "source ~/.bashrc\n",
    "conda create -n py3 python=3\n",
    "source activate py3\n",
    "conda install -y pip jupyter xlrd pandas numpy sqlalchemy plotly seaborn\n",
    "wget http://dl.fedoraproject.org/pub/epel/7/x86_64/Packages/t/texlive-upquote-svn26059.v1.3-55.el7.noarch.rpm\n",
    "sudo rpm -Uvh texlive-upquote-svn26059.v1.3-55.el7.noarch.rpm\n",
    "sudo yum -y install texlive texlive-*.noarch\n",
    "jupyter notebook --generate-config\n",
    "sed -i 's/#c.NotebookApp.allow_password_change = True/c.NotebookApp.allow_password_change = True/g' \\\n",
    "/home/ec2-user/.jupyter/jupyter_notebook_config.py\n",
    "jupyter notebook password \n",
    "jupyter notebook --ip=0.0.0.0 --port=8080 --no-browser &```"
   ]
  },
  {
   "cell_type": "markdown",
   "metadata": {},
   "source": [
    "##### Alright, so once you have configured your EC2 instance with your Jupyter Notebook and accessed it, go ahead and either access the Github repo (https://github.com/derekm1215/btcScripts) to pull down all of the guides that have been created or check out https://www.bravethecloud.com for the latest guide and go from there! "
   ]
  },
  {
   "cell_type": "code",
   "execution_count": null,
   "metadata": {},
   "outputs": [],
   "source": []
  }
 ],
 "metadata": {
  "kernelspec": {
   "display_name": "Python 3",
   "language": "python",
   "name": "python3"
  },
  "language_info": {
   "codemirror_mode": {
    "name": "ipython",
    "version": 3
   },
   "file_extension": ".py",
   "mimetype": "text/x-python",
   "name": "python",
   "nbconvert_exporter": "python",
   "pygments_lexer": "ipython3",
   "version": "3.7.0"
  }
 },
 "nbformat": 4,
 "nbformat_minor": 2
}
