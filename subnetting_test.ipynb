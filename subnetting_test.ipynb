{
 "cells": [
  {
   "cell_type": "markdown",
   "metadata": {},
   "source": [
    "# Boto for Bozos: Lesson 2\n",
    "### Creating Basic VPC Resources Using Boto3"
   ]
  },
  {
   "cell_type": "markdown",
   "metadata": {},
   "source": [
    "___"
   ]
  },
  {
   "cell_type": "markdown",
   "metadata": {},
   "source": [
    "Welcome to the Boto for Bozos lesson 2! In this lesson, we're going to start deploying VPC resources! We'll configure a VPC, tag it, and add subnets using functions that will allow us to deploy multiple subnets using only one call. This may not be an ideal setup for everyone, but it should work well for most cases!\n",
    "\n",
    "If you have followed along with the first guides, you should already have Jupyter Notebook installed. If not, check out the first guide here: https://www.bravethecloud.com/guides/getting-started/ if you wish to follow along in your own Jupyter Notebook!\n",
    "\n",
    "*Note: Press \"ctrl+enter\" to run each cell and move to the next."
   ]
  },
  {
   "cell_type": "markdown",
   "metadata": {},
   "source": [
    "### First, let's upgrade pip\n",
    "(skip if you have already performed this)"
   ]
  },
  {
   "cell_type": "code",
   "execution_count": null,
   "metadata": {},
   "outputs": [],
   "source": [
    "!pip install --upgrade pip"
   ]
  },
  {
   "cell_type": "markdown",
   "metadata": {},
   "source": [
    "### Now, let's install boto3, cython, and pprint using pip\n",
    "I purposefully left the boto3 install off of the Jupyter setup so we can perform it explicitly. I also added \"cython\", which will cause the install to throw an error if not included. 'pprint' is in the standard library, but I've added it just in case.\n",
    "(skip if you have already performed this)"
   ]
  },
  {
   "cell_type": "code",
   "execution_count": null,
   "metadata": {},
   "outputs": [],
   "source": [
    "!pip install boto3 cython pprint"
   ]
  },
  {
   "cell_type": "markdown",
   "metadata": {},
   "source": [
    "### Let's import boto3:"
   ]
  },
  {
   "cell_type": "code",
   "execution_count": 3,
   "metadata": {},
   "outputs": [],
   "source": [
    "import boto3\n",
    "import pandas as pd\n",
    "from pprint import pprint"
   ]
  },
  {
   "cell_type": "markdown",
   "metadata": {},
   "source": [
    "### Let's create a non-default VPC:\n",
    "Using the default VPC is great for PoCing a project or testing things out quickly, but it is never recommended for a production workload, so let's create a new VPC! "
   ]
  },
  {
   "cell_type": "markdown",
   "metadata": {},
   "source": [
    "### First, we need to set our region and our CIDR range:\n",
    "I'm going to use us-east-2 for this, but if you wish to change it, you can. Be aware, some regions have more or fewer availability zones in them, so you may have to modify the scripts accordingly. I choose \"10.152.0.0/16\" instead of something simple like \"10.0.0.0/16\" because I want to ensure I have a very low probability of creating a VPC that overlaps with a home network, office network, or any other network that may need to peer or create a VPN connection. "
   ]
  },
  {
   "cell_type": "code",
   "execution_count": 375,
   "metadata": {},
   "outputs": [],
   "source": [
    "region = 'us-east-2'\n",
    "cidr = '10.152.0.0/16'\n",
    "starting_subnet = 1"
   ]
  },
  {
   "cell_type": "markdown",
   "metadata": {},
   "source": [
    "### Now, to setup the boto3 session:"
   ]
  },
  {
   "cell_type": "code",
   "execution_count": 350,
   "metadata": {},
   "outputs": [],
   "source": [
    "ec2 = boto3.client('ec2', region_name=region)"
   ]
  },
  {
   "cell_type": "markdown",
   "metadata": {},
   "source": [
    "### Then, we create the VPC! \n",
    "As you can see, I've commented out a few things. This is just to show you some of the other possibilities. I don't show this in all commands, but creating a VPC is obviously extremely important! "
   ]
  },
  {
   "cell_type": "code",
   "execution_count": 351,
   "metadata": {},
   "outputs": [],
   "source": [
    "vpc = ec2.create_vpc(\n",
    "    CidrBlock=cidr\n",
    "    #AmazonProvidedIpv6CidrBlock=True|False, ### This will enable IPv6 on your VPC. You cannot choose that CIDR. \n",
    "    #DryRun=True|False, ### This will just test for proper permissions to manage the VPC. \n",
    "    #InstanceTenancy='default'|'dedicated'|'host' ### This determines the type of EC2 tenancy. Check out the AWS docs for more!\n",
    ")\n",
    "#pprint(vpc) # Feel free to print the vpc object, since we performed this in the last lesson, I'll leave it commented out. "
   ]
  },
  {
   "cell_type": "markdown",
   "metadata": {},
   "source": [
    "### Let's get our VPC ID:\n",
    "In this example, we use the VPC CIDR to obtain the VPC ID. Obviously, this wouldn't work if you had multiple VPCs with the same CIDR, but you don't do that, do you? You prefer best practices! "
   ]
  },
  {
   "cell_type": "code",
   "execution_count": 352,
   "metadata": {},
   "outputs": [
    {
     "name": "stdout",
     "output_type": "stream",
     "text": [
      "vpc-0fda70da49e918366\n"
     ]
    }
   ],
   "source": [
    "vpc = ec2.describe_vpcs(\n",
    "    Filters=[\n",
    "        {\n",
    "            'Name': 'cidr',\n",
    "            'Values': [\n",
    "                cidr\n",
    "            ]\n",
    "        }\n",
    "    ]\n",
    ")\n",
    "vpc_id = (vpc['Vpcs'][0]['VpcId'])\n",
    "print(vpc_id)"
   ]
  },
  {
   "cell_type": "markdown",
   "metadata": {},
   "source": [
    "### Getting the VPC by CIDR is one way, but tags are the best way, so let's create one:"
   ]
  },
  {
   "cell_type": "code",
   "execution_count": 353,
   "metadata": {},
   "outputs": [
    {
     "data": {
      "text/plain": [
       "{'ResponseMetadata': {'RequestId': '62afb461-ab87-42e9-b37f-a1f2846ec5bc',\n",
       "  'HTTPStatusCode': 200,\n",
       "  'HTTPHeaders': {'content-type': 'text/xml;charset=UTF-8',\n",
       "   'content-length': '221',\n",
       "   'date': 'Tue, 20 Nov 2018 03:14:22 GMT',\n",
       "   'server': 'AmazonEC2'},\n",
       "  'RetryAttempts': 0}}"
      ]
     },
     "execution_count": 353,
     "metadata": {},
     "output_type": "execute_result"
    }
   ],
   "source": [
    "ec2.create_tags(\n",
    "    Resources = [\n",
    "    vpc_id\n",
    "    ],\n",
    "    Tags=[\n",
    "        {\n",
    "            'Key': 'Name',\n",
    "            'Value': 'prod_vpc'\n",
    "        },\n",
    "    ]\n",
    "\n",
    ")"
   ]
  },
  {
   "cell_type": "markdown",
   "metadata": {},
   "source": [
    "### Now we can query the VPC based on its tag:"
   ]
  },
  {
   "cell_type": "code",
   "execution_count": 354,
   "metadata": {},
   "outputs": [
    {
     "name": "stdout",
     "output_type": "stream",
     "text": [
      "vpc-0fda70da49e918366\n"
     ]
    }
   ],
   "source": [
    "vpc = ec2.describe_vpcs(\n",
    "    Filters=[\n",
    "        {\n",
    "            'Name': 'tag:Name',\n",
    "            'Values': [\n",
    "                'prod_vpc'\n",
    "            ]\n",
    "        }\n",
    "    ]\n",
    ")\n",
    "vpc_id = (vpc['Vpcs'][0]['VpcId'])\n",
    "print(vpc_id)"
   ]
  },
  {
   "cell_type": "markdown",
   "metadata": {},
   "source": [
    "### Ok, so now the VPC is available, let's add some subnets!\n",
    "First, I'm going to check for the available AZs in my region. As you can see, US-East-2 only has three: "
   ]
  },
  {
   "cell_type": "code",
   "execution_count": 355,
   "metadata": {},
   "outputs": [
    {
     "name": "stdout",
     "output_type": "stream",
     "text": [
      "us-east-2a\n",
      "us-east-2b\n",
      "us-east-2c\n"
     ]
    }
   ],
   "source": [
    "availability_zones = ec2.describe_availability_zones()\n",
    "for zones in availability_zones['AvailabilityZones']:\n",
    "    print(zones['ZoneName'])"
   ]
  },
  {
   "cell_type": "markdown",
   "metadata": {},
   "source": [
    "### Now to populate my \"az\" list and my \"snNames\" list:\n",
    "These two lists will be used to deploy the subnets. As you can see, I'm going to use all of the AZs available in my region and configure four types of subnets: \"Public\", \"Private\", \"DB\", and \"Dev\". We will eventually configure appropriate route tables and security rules to correspond with these monikers. "
   ]
  },
  {
   "cell_type": "code",
   "execution_count": 405,
   "metadata": {},
   "outputs": [],
   "source": [
    "az = ['a', 'b', 'c']\n",
    "subnet_names = ['public', 'private', 'db', 'dev']"
   ]
  },
  {
   "cell_type": "markdown",
   "metadata": {},
   "source": [
    "### This function will be used for the subnet creation:\n",
    "The function will take the VPC CIDR and modify it to suit the subnets based on the number of subnets we create, the base network, and the prefix we will use for our subnets. "
   ]
  },
  {
   "cell_type": "code",
   "execution_count": 409,
   "metadata": {},
   "outputs": [
    {
     "ename": "SyntaxError",
     "evalue": "'continue' not properly in loop (cell_name, line 12)",
     "output_type": "error",
     "traceback": [
      "\u001b[0;36m  File \u001b[0;32m\"cell_name\"\u001b[0;36m, line \u001b[0;32m12\u001b[0m\n\u001b[0;31mSyntaxError\u001b[0m\u001b[0;31m:\u001b[0m 'continue' not properly in loop\n"
     ]
    }
   ],
   "source": [
    "def subnet_cidr(n, cidr, prefix, subnet_names):\n",
    "    new_cidr = cidr.split('.')\n",
    "    if prefix == 24:\n",
    "        new_cidr[2] = str(n)\n",
    "    elif (prefix > 24):\n",
    "        if (len(subnet_names) <= (256/(2 ** (8 - (prefix - 24))))):\n",
    "            new_cidr[3] = str(n*(2 ** (8 - (prefix - 24))))\n",
    "        else:\n",
    "            #print(f'/{prefix} only allows for {(256/(2 ** (8 - (prefix - 24))))} subnets')\n",
    "    s = '.'\n",
    "    cidr = s.join(new_cidr).split('/')[0]\n",
    "    return(f'{cidr}/{prefix}')"
   ]
  },
  {
   "cell_type": "code",
   "execution_count": 406,
   "metadata": {},
   "outputs": [
    {
     "ename": "TypeError",
     "evalue": "'str' object is not callable",
     "output_type": "error",
     "traceback": [
      "\u001b[0;31m---------------------------------------------------------------------------\u001b[0m",
      "\u001b[0;31mTypeError\u001b[0m                                 Traceback (most recent call last)",
      "\u001b[0;32m<ipython-input-406-992a3a7fc329>\u001b[0m in \u001b[0;36m<module>\u001b[0;34m\u001b[0m\n\u001b[1;32m      2\u001b[0m \u001b[0;31m#prefix = 26\u001b[0m\u001b[0;34m\u001b[0m\u001b[0;34m\u001b[0m\u001b[0m\n\u001b[1;32m      3\u001b[0m \u001b[0;32mwhile\u001b[0m \u001b[0mn\u001b[0m \u001b[0;34m<\u001b[0m \u001b[0;36m10\u001b[0m\u001b[0;34m:\u001b[0m\u001b[0;34m\u001b[0m\u001b[0m\n\u001b[0;32m----> 4\u001b[0;31m     \u001b[0mprint\u001b[0m\u001b[0;34m(\u001b[0m\u001b[0msubnet_cidr\u001b[0m\u001b[0;34m(\u001b[0m\u001b[0mn\u001b[0m\u001b[0;34m,\u001b[0m \u001b[0mcidr\u001b[0m\u001b[0;34m,\u001b[0m \u001b[0mprefix\u001b[0m\u001b[0;34m,\u001b[0m \u001b[0msubnet_names\u001b[0m\u001b[0;34m)\u001b[0m\u001b[0;34m)\u001b[0m\u001b[0;34m\u001b[0m\u001b[0m\n\u001b[0m\u001b[1;32m      5\u001b[0m     \u001b[0mn\u001b[0m \u001b[0;34m+=\u001b[0m \u001b[0;36m1\u001b[0m\u001b[0;34m\u001b[0m\u001b[0m\n",
      "\u001b[0;31mTypeError\u001b[0m: 'str' object is not callable"
     ]
    }
   ],
   "source": [
    "n = 0\n",
    "#prefix = 26\n",
    "while n < 10:\n",
    "    print(subnet_cidr(n, cidr, prefix, subnet_names))\n",
    "    n += 1"
   ]
  },
  {
   "cell_type": "code",
   "execution_count": 366,
   "metadata": {},
   "outputs": [
    {
     "data": {
      "text/plain": [
       "4.0"
      ]
     },
     "execution_count": 366,
     "metadata": {},
     "output_type": "execute_result"
    }
   ],
   "source": [
    "(256/(2 ** (8 - (prefix - 24))))"
   ]
  },
  {
   "cell_type": "markdown",
   "metadata": {},
   "source": [
    "### This is an example of the output:\n",
    "As you can see, we pass in \"5\", the current \"cidr\" value, and 24 for the \"prefix\". "
   ]
  },
  {
   "cell_type": "code",
   "execution_count": 360,
   "metadata": {},
   "outputs": [
    {
     "name": "stdout",
     "output_type": "stream",
     "text": [
      "10.152.0.0/16\n"
     ]
    },
    {
     "ename": "TypeError",
     "evalue": "subnet_cidr() missing 1 required positional argument: 'subnet_names'",
     "output_type": "error",
     "traceback": [
      "\u001b[0;31m---------------------------------------------------------------------------\u001b[0m",
      "\u001b[0;31mTypeError\u001b[0m                                 Traceback (most recent call last)",
      "\u001b[0;32m<ipython-input-360-f3ce59480cf5>\u001b[0m in \u001b[0;36m<module>\u001b[0;34m\u001b[0m\n\u001b[1;32m      1\u001b[0m \u001b[0mprint\u001b[0m\u001b[0;34m(\u001b[0m\u001b[0mcidr\u001b[0m\u001b[0;34m)\u001b[0m\u001b[0;34m\u001b[0m\u001b[0m\n\u001b[0;32m----> 2\u001b[0;31m \u001b[0msubnet_cidr\u001b[0m\u001b[0;34m(\u001b[0m\u001b[0;36m5\u001b[0m\u001b[0;34m,\u001b[0m \u001b[0mcidr\u001b[0m\u001b[0;34m,\u001b[0m \u001b[0;36m24\u001b[0m\u001b[0;34m)\u001b[0m\u001b[0;34m\u001b[0m\u001b[0m\n\u001b[0m",
      "\u001b[0;31mTypeError\u001b[0m: subnet_cidr() missing 1 required positional argument: 'subnet_names'"
     ]
    }
   ],
   "source": [
    "print(cidr)\n",
    "subnet_cidr(5, cidr, 24)"
   ]
  },
  {
   "cell_type": "markdown",
   "metadata": {},
   "source": [
    "___"
   ]
  },
  {
   "cell_type": "markdown",
   "metadata": {},
   "source": [
    "### Now to create our subnets!\n",
    "In this cell, we are going to iterate through the available subnet names, this will determine how many subnets are created. Since we have 4 subnet names (\"public\", 'private\", \"db\", and \"dev\"), this loop will run 4 times. \n",
    "\n",
    "What I've done in the first for loop, is I have created empty lists based on the subnet names, these lists will be populated with the subnets we create. Each list will contain a subnet from each availability zone. So there will be a subnet from US-East-2a, b, and c in each of the four lists named after our subnets. \n",
    "\n",
    "After that, I loop over the subnet names again, but this time, each subnet name will have 3 subnets created, one in each availability zone. \n",
    "\n",
    "I then use our subnetCidr function to pass in the cidr, prefix, and \"n\", the current iteration, in order to create and number the subnets. I also pass in the vpcId we obtained before. \n"
   ]
  },
  {
   "cell_type": "code",
   "execution_count": 410,
   "metadata": {},
   "outputs": [
    {
     "ename": "TypeError",
     "evalue": "'str' object is not callable",
     "output_type": "error",
     "traceback": [
      "\u001b[0;31m---------------------------------------------------------------------------\u001b[0m",
      "\u001b[0;31mTypeError\u001b[0m                                 Traceback (most recent call last)",
      "\u001b[0;32m<ipython-input-410-86d0e021acb3>\u001b[0m in \u001b[0;36m<module>\u001b[0;34m\u001b[0m\n\u001b[1;32m      7\u001b[0m     \u001b[0;32mwhile\u001b[0m \u001b[0mi\u001b[0m \u001b[0;34m<\u001b[0m \u001b[0;36m0\u001b[0m\u001b[0;34m:\u001b[0m\u001b[0;34m\u001b[0m\u001b[0m\n\u001b[1;32m      8\u001b[0m         network = ec2.create_subnet(\n\u001b[0;32m----> 9\u001b[0;31m             \u001b[0mCidrBlock\u001b[0m \u001b[0;34m=\u001b[0m \u001b[0msubnet_cidr\u001b[0m\u001b[0;34m(\u001b[0m\u001b[0mn\u001b[0m\u001b[0;34m,\u001b[0m \u001b[0mcidr\u001b[0m\u001b[0;34m,\u001b[0m \u001b[0mprefix\u001b[0m\u001b[0;34m,\u001b[0m \u001b[0msubnet_names\u001b[0m\u001b[0;34m)\u001b[0m\u001b[0;34m,\u001b[0m\u001b[0;34m\u001b[0m\u001b[0m\n\u001b[0m\u001b[1;32m     10\u001b[0m             \u001b[0mAvailabilityZone\u001b[0m\u001b[0;34m=\u001b[0m \u001b[0;34m(\u001b[0m\u001b[0;34mf'{region}{str(az[i])}'\u001b[0m\u001b[0;34m)\u001b[0m\u001b[0;34m,\u001b[0m\u001b[0;34m\u001b[0m\u001b[0m\n\u001b[1;32m     11\u001b[0m             \u001b[0mVpcId\u001b[0m\u001b[0;34m=\u001b[0m \u001b[0mvpc_id\u001b[0m\u001b[0;34m\u001b[0m\u001b[0m\n",
      "\u001b[0;31mTypeError\u001b[0m: 'str' object is not callable"
     ]
    }
   ],
   "source": [
    "prefix = 24\n",
    "for name in subnet_names:\n",
    "    vars()[name] = []\n",
    "n = starting_subnet  \n",
    "for subnet in subnet_names:\n",
    "    i = -len(az) \n",
    "    while i < 0:\n",
    "        network = ec2.create_subnet(\n",
    "            CidrBlock = subnet_cidr(n, cidr, prefix, subnet_names),\n",
    "            AvailabilityZone= (f'{region}{str(az[i])}'),\n",
    "            VpcId= vpc_id\n",
    "        )\n",
    "        vars()[subnet].append(network['Subnet']['SubnetId'])\n",
    "        n += 1\n",
    "        i += 1"
   ]
  },
  {
   "cell_type": "markdown",
   "metadata": {},
   "source": [
    "Note: Currently, this increments the 3rd octet of the CIDR by 1. This is good for a /24, but not for other prefixes. I hope to create a function that adapts for other subnets, but for now, this is what we've got. Feel free to reach out if you have a solution ready to go, I'll gladly give props! \n",
    "___"
   ]
  },
  {
   "cell_type": "markdown",
   "metadata": {},
   "source": [
    "### Once the subnets have been created, we can print out the lists:\n",
    "As you can see, each list has an equal number of subnets, and if you query them, you will see they are evenly distributed among the availability zones. "
   ]
  },
  {
   "cell_type": "code",
   "execution_count": 390,
   "metadata": {},
   "outputs": [
    {
     "name": "stdout",
     "output_type": "stream",
     "text": [
      "['subnet-0718d54735d3488c1', 'subnet-00633e1c18faeef7f', 'subnet-04f12dea1e83bd7f0']\n",
      "['subnet-09c88b06b882bc070', 'subnet-022b75b02981e778d', 'subnet-03fc332e3e0880532']\n",
      "['subnet-02ede05bd9e9eddf5', 'subnet-0e4ebf29d041dc477', 'subnet-0f7fa94050a1be6e5']\n",
      "['subnet-03675288342a639ac', 'subnet-0db8bde4edf1c136f', 'subnet-071adb8ba58687c7b']\n"
     ]
    }
   ],
   "source": [
    "print(public)\n",
    "print(private)\n",
    "print(db)\n",
    "print(dev)"
   ]
  },
  {
   "cell_type": "markdown",
   "metadata": {},
   "source": [
    "___"
   ]
  },
  {
   "cell_type": "markdown",
   "metadata": {},
   "source": [
    "### Nice! We now have a VPC with plenty of subnets to work with!\n",
    "So let's get these subnets properly tagged. Here, I have created another function that will tag the subnets based on the list that they're in. As you remember, each list includes subnets from all of our AZs."
   ]
  },
  {
   "cell_type": "code",
   "execution_count": 391,
   "metadata": {},
   "outputs": [],
   "source": [
    "def tag_subnets(subnets, tag_name):\n",
    "    i = 0\n",
    "    for subnet_id in subnets:\n",
    "        tags = ec2.create_tags(\n",
    "                Resources=[\n",
    "                    subnet_id,\n",
    "                ],\n",
    "                Tags=[\n",
    "                    {\n",
    "                        'Key': 'Name',\n",
    "                        'Value': (f'{tag_name} - {str(i)}')\n",
    "                    }\n",
    "                ]\n",
    "            )\n",
    "        i += 1"
   ]
  },
  {
   "cell_type": "code",
   "execution_count": 397,
   "metadata": {},
   "outputs": [],
   "source": [
    "tag_subnets(public, 'Public')"
   ]
  },
  {
   "cell_type": "code",
   "execution_count": 398,
   "metadata": {},
   "outputs": [],
   "source": [
    "tag_subnets(private, 'Private')"
   ]
  },
  {
   "cell_type": "code",
   "execution_count": 399,
   "metadata": {},
   "outputs": [
    {
     "ename": "ClientError",
     "evalue": "An error occurred (InvalidSubnetID.NotFound) when calling the CreateTags operation: The subnet ID 'subnet-02ede05bd9e9eddf5' does not exist",
     "output_type": "error",
     "traceback": [
      "\u001b[0;31m---------------------------------------------------------------------------\u001b[0m",
      "\u001b[0;31mClientError\u001b[0m                               Traceback (most recent call last)",
      "\u001b[0;32m<ipython-input-399-089d66d0cb4a>\u001b[0m in \u001b[0;36m<module>\u001b[0;34m\u001b[0m\n\u001b[0;32m----> 1\u001b[0;31m \u001b[0mtag_subnets\u001b[0m\u001b[0;34m(\u001b[0m\u001b[0mdb\u001b[0m\u001b[0;34m,\u001b[0m \u001b[0;34m'DB'\u001b[0m\u001b[0;34m)\u001b[0m\u001b[0;34m\u001b[0m\u001b[0m\n\u001b[0m",
      "\u001b[0;32m<ipython-input-391-92c9652cf076>\u001b[0m in \u001b[0;36mtag_subnets\u001b[0;34m(subnets, tag_name)\u001b[0m\n\u001b[1;32m      9\u001b[0m                     {\n\u001b[1;32m     10\u001b[0m                         \u001b[0;34m'Key'\u001b[0m\u001b[0;34m:\u001b[0m \u001b[0;34m'Name'\u001b[0m\u001b[0;34m,\u001b[0m\u001b[0;34m\u001b[0m\u001b[0m\n\u001b[0;32m---> 11\u001b[0;31m                         \u001b[0;34m'Value'\u001b[0m\u001b[0;34m:\u001b[0m \u001b[0;34m(\u001b[0m\u001b[0;34mf'{tag_name} - {str(i)}'\u001b[0m\u001b[0;34m)\u001b[0m\u001b[0;34m\u001b[0m\u001b[0m\n\u001b[0m\u001b[1;32m     12\u001b[0m                     }\n\u001b[1;32m     13\u001b[0m                 ]\n",
      "\u001b[0;32m~/miniconda3/envs/py3/lib/python3.7/site-packages/botocore/client.py\u001b[0m in \u001b[0;36m_api_call\u001b[0;34m(self, *args, **kwargs)\u001b[0m\n\u001b[1;32m    318\u001b[0m                     \"%s() only accepts keyword arguments.\" % py_operation_name)\n\u001b[1;32m    319\u001b[0m             \u001b[0;31m# The \"self\" in this scope is referring to the BaseClient.\u001b[0m\u001b[0;34m\u001b[0m\u001b[0;34m\u001b[0m\u001b[0m\n\u001b[0;32m--> 320\u001b[0;31m             \u001b[0;32mreturn\u001b[0m \u001b[0mself\u001b[0m\u001b[0;34m.\u001b[0m\u001b[0m_make_api_call\u001b[0m\u001b[0;34m(\u001b[0m\u001b[0moperation_name\u001b[0m\u001b[0;34m,\u001b[0m \u001b[0mkwargs\u001b[0m\u001b[0;34m)\u001b[0m\u001b[0;34m\u001b[0m\u001b[0m\n\u001b[0m\u001b[1;32m    321\u001b[0m \u001b[0;34m\u001b[0m\u001b[0m\n\u001b[1;32m    322\u001b[0m         \u001b[0m_api_call\u001b[0m\u001b[0;34m.\u001b[0m\u001b[0m__name__\u001b[0m \u001b[0;34m=\u001b[0m \u001b[0mstr\u001b[0m\u001b[0;34m(\u001b[0m\u001b[0mpy_operation_name\u001b[0m\u001b[0;34m)\u001b[0m\u001b[0;34m\u001b[0m\u001b[0m\n",
      "\u001b[0;32m~/miniconda3/envs/py3/lib/python3.7/site-packages/botocore/client.py\u001b[0m in \u001b[0;36m_make_api_call\u001b[0;34m(self, operation_name, api_params)\u001b[0m\n\u001b[1;32m    621\u001b[0m             \u001b[0merror_code\u001b[0m \u001b[0;34m=\u001b[0m \u001b[0mparsed_response\u001b[0m\u001b[0;34m.\u001b[0m\u001b[0mget\u001b[0m\u001b[0;34m(\u001b[0m\u001b[0;34m\"Error\"\u001b[0m\u001b[0;34m,\u001b[0m \u001b[0;34m{\u001b[0m\u001b[0;34m}\u001b[0m\u001b[0;34m)\u001b[0m\u001b[0;34m.\u001b[0m\u001b[0mget\u001b[0m\u001b[0;34m(\u001b[0m\u001b[0;34m\"Code\"\u001b[0m\u001b[0;34m)\u001b[0m\u001b[0;34m\u001b[0m\u001b[0m\n\u001b[1;32m    622\u001b[0m             \u001b[0merror_class\u001b[0m \u001b[0;34m=\u001b[0m \u001b[0mself\u001b[0m\u001b[0;34m.\u001b[0m\u001b[0mexceptions\u001b[0m\u001b[0;34m.\u001b[0m\u001b[0mfrom_code\u001b[0m\u001b[0;34m(\u001b[0m\u001b[0merror_code\u001b[0m\u001b[0;34m)\u001b[0m\u001b[0;34m\u001b[0m\u001b[0m\n\u001b[0;32m--> 623\u001b[0;31m             \u001b[0;32mraise\u001b[0m \u001b[0merror_class\u001b[0m\u001b[0;34m(\u001b[0m\u001b[0mparsed_response\u001b[0m\u001b[0;34m,\u001b[0m \u001b[0moperation_name\u001b[0m\u001b[0;34m)\u001b[0m\u001b[0;34m\u001b[0m\u001b[0m\n\u001b[0m\u001b[1;32m    624\u001b[0m         \u001b[0;32melse\u001b[0m\u001b[0;34m:\u001b[0m\u001b[0;34m\u001b[0m\u001b[0m\n\u001b[1;32m    625\u001b[0m             \u001b[0;32mreturn\u001b[0m \u001b[0mparsed_response\u001b[0m\u001b[0;34m\u001b[0m\u001b[0m\n",
      "\u001b[0;31mClientError\u001b[0m: An error occurred (InvalidSubnetID.NotFound) when calling the CreateTags operation: The subnet ID 'subnet-02ede05bd9e9eddf5' does not exist"
     ]
    }
   ],
   "source": [
    "tag_subnets(db, 'DB')"
   ]
  },
  {
   "cell_type": "code",
   "execution_count": 400,
   "metadata": {},
   "outputs": [],
   "source": [
    "tag_subnets(dev, 'Dev')"
   ]
  },
  {
   "cell_type": "markdown",
   "metadata": {},
   "source": [
    "### Now, let's take our subnets, query them, and output them in a nice table! "
   ]
  },
  {
   "cell_type": "code",
   "execution_count": 401,
   "metadata": {},
   "outputs": [
    {
     "data": {
      "text/html": [
       "<div>\n",
       "<style scoped>\n",
       "    .dataframe tbody tr th:only-of-type {\n",
       "        vertical-align: middle;\n",
       "    }\n",
       "\n",
       "    .dataframe tbody tr th {\n",
       "        vertical-align: top;\n",
       "    }\n",
       "\n",
       "    .dataframe thead th {\n",
       "        text-align: right;\n",
       "    }\n",
       "</style>\n",
       "<table border=\"1\" class=\"dataframe\">\n",
       "  <thead>\n",
       "    <tr style=\"text-align: right;\">\n",
       "      <th></th>\n",
       "      <th>Name</th>\n",
       "      <th>CIDR</th>\n",
       "      <th>AZ</th>\n",
       "    </tr>\n",
       "  </thead>\n",
       "  <tbody>\n",
       "    <tr>\n",
       "      <th>0</th>\n",
       "      <td>10.152.1.0/24</td>\n",
       "      <td>10.152.1.0/24</td>\n",
       "      <td>us-east-2a</td>\n",
       "    </tr>\n",
       "    <tr>\n",
       "      <th>1</th>\n",
       "      <td>10.152.4.0/24</td>\n",
       "      <td>10.152.4.0/24</td>\n",
       "      <td>us-east-2a</td>\n",
       "    </tr>\n",
       "    <tr>\n",
       "      <th>2</th>\n",
       "      <td>10.152.7.0/24</td>\n",
       "      <td>10.152.7.0/24</td>\n",
       "      <td>us-east-2a</td>\n",
       "    </tr>\n",
       "    <tr>\n",
       "      <th>7</th>\n",
       "      <td>10.152.2.0/24</td>\n",
       "      <td>10.152.2.0/24</td>\n",
       "      <td>us-east-2b</td>\n",
       "    </tr>\n",
       "    <tr>\n",
       "      <th>5</th>\n",
       "      <td>10.152.5.0/24</td>\n",
       "      <td>10.152.5.0/24</td>\n",
       "      <td>us-east-2b</td>\n",
       "    </tr>\n",
       "    <tr>\n",
       "      <th>8</th>\n",
       "      <td>10.152.8.0/24</td>\n",
       "      <td>10.152.8.0/24</td>\n",
       "      <td>us-east-2b</td>\n",
       "    </tr>\n",
       "    <tr>\n",
       "      <th>6</th>\n",
       "      <td>10.152.3.0/24</td>\n",
       "      <td>10.152.3.0/24</td>\n",
       "      <td>us-east-2c</td>\n",
       "    </tr>\n",
       "    <tr>\n",
       "      <th>3</th>\n",
       "      <td>10.152.6.0/24</td>\n",
       "      <td>10.152.6.0/24</td>\n",
       "      <td>us-east-2c</td>\n",
       "    </tr>\n",
       "    <tr>\n",
       "      <th>4</th>\n",
       "      <td>10.152.9.0/24</td>\n",
       "      <td>10.152.9.0/24</td>\n",
       "      <td>us-east-2c</td>\n",
       "    </tr>\n",
       "  </tbody>\n",
       "</table>\n",
       "</div>"
      ],
      "text/plain": [
       "            Name           CIDR          AZ\n",
       "0  10.152.1.0/24  10.152.1.0/24  us-east-2a\n",
       "1  10.152.4.0/24  10.152.4.0/24  us-east-2a\n",
       "2  10.152.7.0/24  10.152.7.0/24  us-east-2a\n",
       "7  10.152.2.0/24  10.152.2.0/24  us-east-2b\n",
       "5  10.152.5.0/24  10.152.5.0/24  us-east-2b\n",
       "8  10.152.8.0/24  10.152.8.0/24  us-east-2b\n",
       "6  10.152.3.0/24  10.152.3.0/24  us-east-2c\n",
       "3  10.152.6.0/24  10.152.6.0/24  us-east-2c\n",
       "4  10.152.9.0/24  10.152.9.0/24  us-east-2c"
      ]
     },
     "execution_count": 401,
     "metadata": {},
     "output_type": "execute_result"
    }
   ],
   "source": [
    "subnets = ec2.describe_subnets(\n",
    "    Filters=[\n",
    "        {\n",
    "            'Name': 'vpc-id',\n",
    "            'Values': [\n",
    "                vpc_id\n",
    "            ]\n",
    "        }\n",
    "    ]\n",
    ")\n",
    "number = len(subnets['Subnets'])\n",
    "i = 0\n",
    "item_list = []\n",
    "while i < number:\n",
    "    subnet_name = subnets['Subnets'][i]['Tags'][0]['Value']\n",
    "    subnet_cidr = subnets['Subnets'][i]['CidrBlock']\n",
    "    subnet_az = subnets['Subnets'][i]['AvailabilityZone']\n",
    "    item = {'Name':subnet_cidr, 'AZ':subnet_az, 'CIDR':subnet_cidr}\n",
    "    item_list.append(item)    \n",
    "    i += 1\n",
    "    \n",
    "df = pd.DataFrame(data=item_list, columns=['Name','CIDR','AZ'])\n",
    "df.sort_values(['AZ','Name'])\n",
    "#df.reset_index(drop=True)"
   ]
  },
  {
   "cell_type": "markdown",
   "metadata": {},
   "source": [
    "### Great! We have now configured a non-default VPC and plenty of subnets to work with to ensure we maintain high availability and scalability, so this lesson is complete! Keep an eye on my blog at https://www.bravethecloud.com for future installments! "
   ]
  },
  {
   "cell_type": "markdown",
   "metadata": {},
   "source": [
    "### Command Review"
   ]
  },
  {
   "cell_type": "markdown",
   "metadata": {},
   "source": [
    "##### To start creating ec2 resources, you need to setup the boto3 client:\n",
    "ec2 = boto3.client('ec2', region_name='us-east-2')"
   ]
  },
  {
   "cell_type": "markdown",
   "metadata": {},
   "source": [
    "##### Commands used in this tutorial:\n",
    "ec2.create_vpc() <br>\n",
    "ec2.create_subnet() <br>\n",
    "ec2.describe_availability_zones() <br>\n",
    "ec2.describe_instances() <br>\n",
    "ec2.describe_vpcs() <br>\n",
    "ec2.create_tags()"
   ]
  },
  {
   "cell_type": "code",
   "execution_count": null,
   "metadata": {},
   "outputs": [],
   "source": []
  }
 ],
 "metadata": {
  "kernelspec": {
   "display_name": "Python 3",
   "language": "python",
   "name": "python3"
  },
  "language_info": {
   "codemirror_mode": {
    "name": "ipython",
    "version": 3
   },
   "file_extension": ".py",
   "mimetype": "text/x-python",
   "name": "python",
   "nbconvert_exporter": "python",
   "pygments_lexer": "ipython3",
   "version": "3.7.0"
  }
 },
 "nbformat": 4,
 "nbformat_minor": 2
}
