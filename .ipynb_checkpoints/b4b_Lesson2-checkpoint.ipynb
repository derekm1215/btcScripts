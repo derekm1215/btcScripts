{
 "cells": [
  {
   "cell_type": "markdown",
   "metadata": {},
   "source": [
    "# Boto for Bozos: Lesson 2\n",
    "### Creating Basic VPC Resources Using Boto3"
   ]
  },
  {
   "cell_type": "markdown",
   "metadata": {},
   "source": [
    "___"
   ]
  },
  {
   "cell_type": "markdown",
   "metadata": {},
   "source": [
    "Welcome to the Boto for Bozos lesson 2! In this lesson, we're going to start deploying VPC resources! We'll configure a VPC, tag it, and add subnets using functions that will allow us to deploy multiple subnets using only one call. This may not be an ideal setup for everyone, but it should work well for most cases!\n",
    "\n",
    "If you have followed along with the first guides, you should already have Jupyter Notebook installed. If not, check out the first guide here: https://www.bravethecloud.com/guides/getting-started/ if you wish to follow along in your own Jupyter Notebook!\n",
    "\n",
    "*Note: Press \"ctrl+enter\" to run each cell and move to the next."
   ]
  },
  {
   "cell_type": "markdown",
   "metadata": {},
   "source": [
    "### First, let's upgrade pip\n",
    "(skip if you have already performed this)"
   ]
  },
  {
   "cell_type": "code",
   "execution_count": null,
   "metadata": {},
   "outputs": [],
   "source": [
    "!pip install --upgrade pip"
   ]
  },
  {
   "cell_type": "markdown",
   "metadata": {},
   "source": [
    "### Now, let's install boto3, cython, and pprint using pip\n",
    "I purposefully left the boto3 install off of the Jupyter setup so we can perform it explicitly. I also added \"cython\", which will cause the install to throw an error if not included. 'pprint' is in the standard library, but I've added it just in case.\n",
    "(skip if you have already performed this)"
   ]
  },
  {
   "cell_type": "code",
   "execution_count": null,
   "metadata": {},
   "outputs": [],
   "source": [
    "!pip install boto3 cython pprint"
   ]
  },
  {
   "cell_type": "markdown",
   "metadata": {},
   "source": [
    "### Let's import boto3:"
   ]
  },
  {
   "cell_type": "code",
   "execution_count": 1,
   "metadata": {},
   "outputs": [],
   "source": [
    "import boto3\n",
    "import pandas as pd\n",
    "from pprint import pprint"
   ]
  },
  {
   "cell_type": "markdown",
   "metadata": {},
   "source": [
    "### Let's create a non-default VPC:\n",
    "Using the default VPC is great for PoCing a project or testing things out quickly, but it is never recommended for a production workload, so let's create a new VPC! "
   ]
  },
  {
   "cell_type": "markdown",
   "metadata": {},
   "source": [
    "### First, we need to set our region and our CIDR range:\n",
    "I'm going to use us-east-2 for this, but if you wish to change it, you can. Be aware, some regions have more or fewer availability zones in them, so you may have to modify the scripts accordingly. I choose \"10.152.0.0/16\" instead of something simple like \"10.0.0.0/16\" because I want to ensure I have a very low probability of creating a VPC that overlaps with a home network, office network, or any other network that may need to peer or create a VPN connection. "
   ]
  },
  {
   "cell_type": "code",
   "execution_count": 2,
   "metadata": {},
   "outputs": [],
   "source": [
    "region = 'us-east-2'\n",
    "cidr = '10.152.0.0/16'"
   ]
  },
  {
   "cell_type": "markdown",
   "metadata": {},
   "source": [
    "### Now, to setup the boto3 session:"
   ]
  },
  {
   "cell_type": "code",
   "execution_count": 3,
   "metadata": {},
   "outputs": [],
   "source": [
    "ec2 = boto3.client('ec2', region_name=region)"
   ]
  },
  {
   "cell_type": "markdown",
   "metadata": {},
   "source": [
    "### Then, we create the VPC! \n",
    "As you can see, I've commented out a few things. This is just to show you some of the other possibilities. I don't show this in all commands, but creating a VPC is obviously extremely important! "
   ]
  },
  {
   "cell_type": "code",
   "execution_count": 4,
   "metadata": {},
   "outputs": [],
   "source": [
    "vpc = ec2.create_vpc(\n",
    "    CidrBlock=cidr\n",
    "    #AmazonProvidedIpv6CidrBlock=True|False, ### This will enable IPv6 on your VPC. You cannot choose that CIDR. \n",
    "    #DryRun=True|False, ### This will just test for proper permissions to manage the VPC. \n",
    "    #InstanceTenancy='default'|'dedicated'|'host' ### This determines the type of EC2 tenancy. Check out the AWS docs for more!\n",
    ")\n",
    "#pprint(vpc) # Feel free to print the vpc object, since we performed this in the last lesson, I'll leave it commented out. "
   ]
  },
  {
   "cell_type": "markdown",
   "metadata": {},
   "source": [
    "### Let's get our VPC ID:\n",
    "In this example, we use the VPC CIDR to obtain the VPC ID. Obviously, this wouldn't work if you had multiple VPCs with the same CIDR, but you don't do that, do you? You prefer best practices! "
   ]
  },
  {
   "cell_type": "code",
   "execution_count": 5,
   "metadata": {},
   "outputs": [
    {
     "name": "stdout",
     "output_type": "stream",
     "text": [
      "vpc-03d9ca76e21f1a0dc\n"
     ]
    }
   ],
   "source": [
    "vpc = ec2.describe_vpcs(\n",
    "    Filters=[\n",
    "        {\n",
    "            'Name': 'cidr',\n",
    "            'Values': [\n",
    "                cidr\n",
    "            ]\n",
    "        }\n",
    "    ]\n",
    ")\n",
    "vpc_id = (vpc['Vpcs'][0]['VpcId'])\n",
    "print(vpc_id)"
   ]
  },
  {
   "cell_type": "markdown",
   "metadata": {},
   "source": [
    "### Getting the VPC by CIDR is one way, but tags are the best way, so let's create one:"
   ]
  },
  {
   "cell_type": "code",
   "execution_count": 6,
   "metadata": {},
   "outputs": [
    {
     "data": {
      "text/plain": [
       "{'ResponseMetadata': {'RequestId': '3f682594-b19f-467b-9173-2de4952bba8f',\n",
       "  'HTTPStatusCode': 200,\n",
       "  'HTTPHeaders': {'content-type': 'text/xml;charset=UTF-8',\n",
       "   'content-length': '221',\n",
       "   'date': 'Tue, 20 Nov 2018 03:40:49 GMT',\n",
       "   'server': 'AmazonEC2'},\n",
       "  'RetryAttempts': 0}}"
      ]
     },
     "execution_count": 6,
     "metadata": {},
     "output_type": "execute_result"
    }
   ],
   "source": [
    "ec2.create_tags(\n",
    "    Resources = [\n",
    "    vpc_id\n",
    "    ],\n",
    "    Tags=[\n",
    "        {\n",
    "            'Key': 'Name',\n",
    "            'Value': 'prod_vpc'\n",
    "        },\n",
    "    ]\n",
    "\n",
    ")"
   ]
  },
  {
   "cell_type": "markdown",
   "metadata": {},
   "source": [
    "### Now we can query the VPC based on its tag:"
   ]
  },
  {
   "cell_type": "code",
   "execution_count": 7,
   "metadata": {},
   "outputs": [
    {
     "name": "stdout",
     "output_type": "stream",
     "text": [
      "vpc-03d9ca76e21f1a0dc\n"
     ]
    }
   ],
   "source": [
    "vpc = ec2.describe_vpcs(\n",
    "    Filters=[\n",
    "        {\n",
    "            'Name': 'tag:Name',\n",
    "            'Values': [\n",
    "                'prod_vpc'\n",
    "            ]\n",
    "        }\n",
    "    ]\n",
    ")\n",
    "vpc_id = (vpc['Vpcs'][0]['VpcId'])\n",
    "print(vpc_id)"
   ]
  },
  {
   "cell_type": "markdown",
   "metadata": {},
   "source": [
    "### Ok, so now the VPC is available, let's add some subnets!\n",
    "First, I'm going to check for the available AZs in my region. As you can see, US-East-2 only has three: "
   ]
  },
  {
   "cell_type": "code",
   "execution_count": 8,
   "metadata": {},
   "outputs": [
    {
     "name": "stdout",
     "output_type": "stream",
     "text": [
      "us-east-2a\n",
      "us-east-2b\n",
      "us-east-2c\n"
     ]
    }
   ],
   "source": [
    "availability_zones = ec2.describe_availability_zones()\n",
    "for zones in availability_zones['AvailabilityZones']:\n",
    "    print(zones['ZoneName'])"
   ]
  },
  {
   "cell_type": "markdown",
   "metadata": {},
   "source": [
    "### Now to populate my \"az\" list and my \"snNames\" list:\n",
    "These two lists will be used to deploy the subnets. As you can see, I'm going to use all of the AZs available in my region and configure four types of subnets: \"Public\", \"Private\", \"DB\", and \"Dev\". We will eventually configure appropriate route tables and security rules to correspond with these monikers. "
   ]
  },
  {
   "cell_type": "code",
   "execution_count": 9,
   "metadata": {},
   "outputs": [],
   "source": [
    "az = ['a', 'b', 'c']\n",
    "subnet_names = ['public', 'private', 'db', 'dev']"
   ]
  },
  {
   "cell_type": "markdown",
   "metadata": {},
   "source": [
    "### This function will be used for the subnet creation:\n",
    "The function will take the VPC CIDR and modify it to suit the subnets based on the number of subnets we create, the base network, and the prefix we will use for our subnets. "
   ]
  },
  {
   "cell_type": "code",
   "execution_count": 10,
   "metadata": {},
   "outputs": [],
   "source": [
    "def subnet_cidr(n, cidr, prefix):\n",
    "    new_cidr = cidr.split('.')\n",
    "    new_cidr[2] = str(n)\n",
    "    s = '.'\n",
    "    cidr = s.join(new_cidr).split('/')[0]\n",
    "    return(f'{cidr}/{prefix}')"
   ]
  },
  {
   "cell_type": "markdown",
   "metadata": {},
   "source": [
    "### This is an example of the output:\n",
    "As you can see, we pass in \"5\", the current \"cidr\" value, and 24 for the \"prefix\". "
   ]
  },
  {
   "cell_type": "code",
   "execution_count": 11,
   "metadata": {},
   "outputs": [
    {
     "name": "stdout",
     "output_type": "stream",
     "text": [
      "10.152.0.0/16\n"
     ]
    },
    {
     "data": {
      "text/plain": [
       "'10.152.5.0/24'"
      ]
     },
     "execution_count": 11,
     "metadata": {},
     "output_type": "execute_result"
    }
   ],
   "source": [
    "print(cidr)\n",
    "subnet_cidr(5, cidr, 24)"
   ]
  },
  {
   "cell_type": "markdown",
   "metadata": {},
   "source": [
    "___"
   ]
  },
  {
   "cell_type": "markdown",
   "metadata": {},
   "source": [
    "### Now to create our subnets!\n",
    "In this cell, we are going to iterate through the available subnet names, this will determine how many subnets are created. Since we have 4 subnet names (\"public\", 'private\", \"db\", and \"dev\"), this loop will run 4 times. \n",
    "\n",
    "What I've done in the first for loop, is I have created empty lists based on the subnet names, these lists will be populated with the subnets we create. Each list will contain a subnet from each availability zone. So there will be a subnet from US-East-2a, b, and c in each of the four lists named after our subnets. \n",
    "\n",
    "After that, I loop over the subnet names again, but this time, each subnet name will have 3 subnets created, one in each availability zone. \n",
    "\n",
    "I then use our subnetCidr function to pass in the cidr, prefix, and \"n\", the current iteration, in order to create and number the subnets. I also pass in the vpcId we obtained before. \n"
   ]
  },
  {
   "cell_type": "code",
   "execution_count": 12,
   "metadata": {},
   "outputs": [],
   "source": [
    "for name in subnet_names:\n",
    "    vars()[name] = []\n",
    "n = 1  \n",
    "for subnet in subnet_names:\n",
    "    i = -len(az)\n",
    "    while i < 0:\n",
    "        network = ec2.create_subnet(\n",
    "            CidrBlock = subnet_cidr(n, cidr, 24),\n",
    "            AvailabilityZone= (f'{region}{str(az[i])}'),\n",
    "            VpcId= vpc_id\n",
    "        )\n",
    "        vars()[subnet].append(network['Subnet']['SubnetId'])\n",
    "        n += 1\n",
    "        i += 1"
   ]
  },
  {
   "cell_type": "markdown",
   "metadata": {},
   "source": [
    "Note: Currently, this increments the 3rd octet of the CIDR by 1. This is good for a /24, but not for other prefixes. I hope to create a function that adapts for other subnets, but for now, this is what we've got. Feel free to reach out if you have a solution ready to go, I'll gladly give props! \n",
    "___"
   ]
  },
  {
   "cell_type": "markdown",
   "metadata": {},
   "source": [
    "### Once the subnets have been created, we can print out the lists:\n",
    "As you can see, each list has an equal number of subnets, and if you query them, you will see they are evenly distributed among the availability zones. "
   ]
  },
  {
   "cell_type": "code",
   "execution_count": 13,
   "metadata": {},
   "outputs": [
    {
     "name": "stdout",
     "output_type": "stream",
     "text": [
      "['subnet-059c5fc08efb49c13', 'subnet-0ae00cc25d521608c', 'subnet-072ea2ed97a4f7b73']\n",
      "['subnet-09133b2e9a5282973', 'subnet-0f786dd468978ed47', 'subnet-0f004a46574b91faa']\n",
      "['subnet-0ee8df0c3bc19dbb3', 'subnet-0017a969d0a363e2e', 'subnet-0a08717e64f0542f6']\n",
      "['subnet-03665710e9da71eac', 'subnet-0659e4d721ecda026', 'subnet-08c92cce6cd3b1ca6']\n"
     ]
    }
   ],
   "source": [
    "print(public)\n",
    "print(private)\n",
    "print(db)\n",
    "print(dev)"
   ]
  },
  {
   "cell_type": "markdown",
   "metadata": {},
   "source": [
    "___"
   ]
  },
  {
   "cell_type": "markdown",
   "metadata": {},
   "source": [
    "### Nice! We now have a VPC with plenty of subnets to work with!\n",
    "So let's get these subnets properly tagged. Here, I have created another function that will tag the subnets based on the list that they're in. As you remember, each list includes subnets from all of our AZs."
   ]
  },
  {
   "cell_type": "code",
   "execution_count": 14,
   "metadata": {},
   "outputs": [],
   "source": [
    "def tag_subnets(subnets, tag_name):\n",
    "    i = 0\n",
    "    for subnet_id in subnets:\n",
    "        tags = ec2.create_tags(\n",
    "                Resources=[\n",
    "                    subnet_id,\n",
    "                ],\n",
    "                Tags=[\n",
    "                    {\n",
    "                        'Key': 'Name',\n",
    "                        'Value': (f'{tag_name} - {str(i)}')\n",
    "                    }\n",
    "                ]\n",
    "            )\n",
    "        i += 1"
   ]
  },
  {
   "cell_type": "code",
   "execution_count": 15,
   "metadata": {},
   "outputs": [],
   "source": [
    "tag_subnets(public, 'Public')"
   ]
  },
  {
   "cell_type": "code",
   "execution_count": 16,
   "metadata": {},
   "outputs": [],
   "source": [
    "tag_subnets(private, 'Private')"
   ]
  },
  {
   "cell_type": "code",
   "execution_count": 17,
   "metadata": {},
   "outputs": [],
   "source": [
    "tag_subnets(db, 'DB')"
   ]
  },
  {
   "cell_type": "code",
   "execution_count": 18,
   "metadata": {},
   "outputs": [],
   "source": [
    "tag_subnets(dev, 'Dev')"
   ]
  },
  {
   "cell_type": "markdown",
   "metadata": {},
   "source": [
    "### Now, let's take our subnets, query them, and output them in a nice table! "
   ]
  },
  {
   "cell_type": "code",
   "execution_count": 20,
   "metadata": {},
   "outputs": [
    {
     "data": {
      "text/html": [
       "<div>\n",
       "<style scoped>\n",
       "    .dataframe tbody tr th:only-of-type {\n",
       "        vertical-align: middle;\n",
       "    }\n",
       "\n",
       "    .dataframe tbody tr th {\n",
       "        vertical-align: top;\n",
       "    }\n",
       "\n",
       "    .dataframe thead th {\n",
       "        text-align: right;\n",
       "    }\n",
       "</style>\n",
       "<table border=\"1\" class=\"dataframe\">\n",
       "  <thead>\n",
       "    <tr style=\"text-align: right;\">\n",
       "      <th></th>\n",
       "      <th>Name</th>\n",
       "      <th>CIDR</th>\n",
       "      <th>AZ</th>\n",
       "    </tr>\n",
       "  </thead>\n",
       "  <tbody>\n",
       "    <tr>\n",
       "      <th>8</th>\n",
       "      <td>DB - 0</td>\n",
       "      <td>10.152.7.0/24</td>\n",
       "      <td>us-east-2a</td>\n",
       "    </tr>\n",
       "    <tr>\n",
       "      <th>5</th>\n",
       "      <td>Dev - 0</td>\n",
       "      <td>10.152.10.0/24</td>\n",
       "      <td>us-east-2a</td>\n",
       "    </tr>\n",
       "    <tr>\n",
       "      <th>11</th>\n",
       "      <td>Private - 0</td>\n",
       "      <td>10.152.4.0/24</td>\n",
       "      <td>us-east-2a</td>\n",
       "    </tr>\n",
       "    <tr>\n",
       "      <th>10</th>\n",
       "      <td>Public - 0</td>\n",
       "      <td>10.152.1.0/24</td>\n",
       "      <td>us-east-2a</td>\n",
       "    </tr>\n",
       "    <tr>\n",
       "      <th>1</th>\n",
       "      <td>DB - 1</td>\n",
       "      <td>10.152.8.0/24</td>\n",
       "      <td>us-east-2b</td>\n",
       "    </tr>\n",
       "    <tr>\n",
       "      <th>3</th>\n",
       "      <td>Dev - 1</td>\n",
       "      <td>10.152.11.0/24</td>\n",
       "      <td>us-east-2b</td>\n",
       "    </tr>\n",
       "    <tr>\n",
       "      <th>9</th>\n",
       "      <td>Private - 1</td>\n",
       "      <td>10.152.5.0/24</td>\n",
       "      <td>us-east-2b</td>\n",
       "    </tr>\n",
       "    <tr>\n",
       "      <th>6</th>\n",
       "      <td>Public - 1</td>\n",
       "      <td>10.152.2.0/24</td>\n",
       "      <td>us-east-2b</td>\n",
       "    </tr>\n",
       "    <tr>\n",
       "      <th>0</th>\n",
       "      <td>DB - 2</td>\n",
       "      <td>10.152.9.0/24</td>\n",
       "      <td>us-east-2c</td>\n",
       "    </tr>\n",
       "    <tr>\n",
       "      <th>4</th>\n",
       "      <td>Dev - 2</td>\n",
       "      <td>10.152.12.0/24</td>\n",
       "      <td>us-east-2c</td>\n",
       "    </tr>\n",
       "    <tr>\n",
       "      <th>7</th>\n",
       "      <td>Private - 2</td>\n",
       "      <td>10.152.6.0/24</td>\n",
       "      <td>us-east-2c</td>\n",
       "    </tr>\n",
       "    <tr>\n",
       "      <th>2</th>\n",
       "      <td>Public - 2</td>\n",
       "      <td>10.152.3.0/24</td>\n",
       "      <td>us-east-2c</td>\n",
       "    </tr>\n",
       "  </tbody>\n",
       "</table>\n",
       "</div>"
      ],
      "text/plain": [
       "           Name            CIDR          AZ\n",
       "8        DB - 0   10.152.7.0/24  us-east-2a\n",
       "5       Dev - 0  10.152.10.0/24  us-east-2a\n",
       "11  Private - 0   10.152.4.0/24  us-east-2a\n",
       "10   Public - 0   10.152.1.0/24  us-east-2a\n",
       "1        DB - 1   10.152.8.0/24  us-east-2b\n",
       "3       Dev - 1  10.152.11.0/24  us-east-2b\n",
       "9   Private - 1   10.152.5.0/24  us-east-2b\n",
       "6    Public - 1   10.152.2.0/24  us-east-2b\n",
       "0        DB - 2   10.152.9.0/24  us-east-2c\n",
       "4       Dev - 2  10.152.12.0/24  us-east-2c\n",
       "7   Private - 2   10.152.6.0/24  us-east-2c\n",
       "2    Public - 2   10.152.3.0/24  us-east-2c"
      ]
     },
     "execution_count": 20,
     "metadata": {},
     "output_type": "execute_result"
    }
   ],
   "source": [
    "subnets = ec2.describe_subnets(\n",
    "    Filters=[\n",
    "        {\n",
    "            'Name': 'vpc-id',\n",
    "            'Values': [\n",
    "                vpc_id\n",
    "            ]\n",
    "        }\n",
    "    ]\n",
    ")\n",
    "number = len(subnets['Subnets'])\n",
    "i = 0\n",
    "item_list = []\n",
    "while i < number:\n",
    "    subnet_name = subnets['Subnets'][i]['Tags'][0]['Value']\n",
    "    subnet_cidr = subnets['Subnets'][i]['CidrBlock']\n",
    "    subnet_az = subnets['Subnets'][i]['AvailabilityZone']\n",
    "    item = {'Name':subnet_name, 'AZ':subnet_az, 'CIDR':subnet_cidr}\n",
    "    item_list.append(item)    \n",
    "    i += 1\n",
    "    \n",
    "df = pd.DataFrame(data=item_list, columns=['Name','CIDR','AZ'])\n",
    "df.sort_values(['AZ','Name'])\n",
    "#df.reset_index(drop=True)"
   ]
  },
  {
   "cell_type": "markdown",
   "metadata": {},
   "source": [
    "### Great! We have now configured a non-default VPC and plenty of subnets to work with to ensure we maintain high availability and scalability, so this lesson is complete! Keep an eye on my blog at https://www.bravethecloud.com for future installments! "
   ]
  },
  {
   "cell_type": "markdown",
   "metadata": {},
   "source": [
    "### Command Review"
   ]
  },
  {
   "cell_type": "markdown",
   "metadata": {},
   "source": [
    "##### To start creating ec2 resources, you need to setup the boto3 client:\n",
    "ec2 = boto3.client('ec2', region_name='us-east-2')"
   ]
  },
  {
   "cell_type": "markdown",
   "metadata": {},
   "source": [
    "##### Commands used in this tutorial:\n",
    "ec2.create_vpc() <br>\n",
    "ec2.create_subnet() <br>\n",
    "ec2.describe_availability_zones() <br>\n",
    "ec2.describe_instances() <br>\n",
    "ec2.describe_vpcs() <br>\n",
    "ec2.create_tags()"
   ]
  },
  {
   "cell_type": "code",
   "execution_count": null,
   "metadata": {},
   "outputs": [],
   "source": []
  }
 ],
 "metadata": {
  "kernelspec": {
   "display_name": "Python 3",
   "language": "python",
   "name": "python3"
  },
  "language_info": {
   "codemirror_mode": {
    "name": "ipython",
    "version": 3
   },
   "file_extension": ".py",
   "mimetype": "text/x-python",
   "name": "python",
   "nbconvert_exporter": "python",
   "pygments_lexer": "ipython3",
   "version": "3.7.0"
  }
 },
 "nbformat": 4,
 "nbformat_minor": 2
}
