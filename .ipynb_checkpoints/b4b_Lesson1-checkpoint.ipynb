{
 "cells": [
  {
   "cell_type": "markdown",
   "metadata": {},
   "source": [
    "# Boto for Bozos: Lesson 1\n",
    "### Getting started querying AWS EC2 and VPC resources with Python and Boto3"
   ]
  },
  {
   "cell_type": "markdown",
   "metadata": {},
   "source": [
    "___"
   ]
  },
  {
   "cell_type": "markdown",
   "metadata": {},
   "source": [
    "Welcome to the Boto for Bozos lesson 1! In this lesson, we are just going to start getting our feet wet. We'll install boto3, configure a session, query our current EC2 resources, create a new VPC, and add some VPC resources. Let's get started!\n",
    "\n",
    "##### *Note: Press \"ctrl+enter\" to run each cell and move to the next."
   ]
  },
  {
   "cell_type": "markdown",
   "metadata": {},
   "source": [
    "### First, let's upgrade pip"
   ]
  },
  {
   "cell_type": "code",
   "execution_count": null,
   "metadata": {},
   "outputs": [],
   "source": [
    "!pip install --upgrade pip"
   ]
  },
  {
   "cell_type": "markdown",
   "metadata": {},
   "source": [
    "### Now, let's install boto3, cython, and pprint using pip\n",
    "I purposefully left the boto3 install off of the Jupyter setup so we can perform it explicitly. I also added \"cython\", which will cause the install to throw an error if not included. 'pprint' is in the standard library, but I've added it just in case."
   ]
  },
  {
   "cell_type": "code",
   "execution_count": null,
   "metadata": {},
   "outputs": [],
   "source": [
    "!pip install boto3 cython pprint"
   ]
  },
  {
   "cell_type": "markdown",
   "metadata": {},
   "source": [
    "### Let's import boto3:"
   ]
  },
  {
   "cell_type": "code",
   "execution_count": null,
   "metadata": {},
   "outputs": [],
   "source": [
    "import boto3\n",
    "from pprint import pprint"
   ]
  },
  {
   "cell_type": "markdown",
   "metadata": {},
   "source": [
    "### Great! We're moving right along!\n",
    "Now, let's query our existing resources and poke around a bit. If you haven't deployed any EC2 instances (If you're following along using the Jupyter Notebook instructions, you should obviously have at least one), nothing will show up here, so go ahead and deploy one with a public IP address if you don't have one:"
   ]
  },
  {
   "cell_type": "code",
   "execution_count": 133,
   "metadata": {},
   "outputs": [
    {
     "name": "stdout",
     "output_type": "stream",
     "text": [
      "{'Reservations': [{'Groups': [],\n",
      "                   'Instances': [{'AmiLaunchIndex': 0,\n",
      "                                  'Architecture': 'x86_64',\n",
      "                                  'BlockDeviceMappings': [{'DeviceName': '/dev/sda1',\n",
      "                                                           'Ebs': {'AttachTime': datetime.datetime(2018, 10, 14, 21, 1, 45, tzinfo=tzlocal()),\n",
      "                                                                   'DeleteOnTermination': True,\n",
      "                                                                   'Status': 'attached',\n",
      "                                                                   'VolumeId': 'vol-0ad3e1b8629a29926'}}],\n",
      "                                  'ClientToken': '',\n",
      "                                  'CpuOptions': {'CoreCount': 1,\n",
      "                                                 'ThreadsPerCore': 1},\n",
      "                                  'EbsOptimized': False,\n",
      "                                  'EnaSupport': True,\n",
      "                                  'Hypervisor': 'xen',\n",
      "                                  'IamInstanceProfile': {'Arn': 'arn:aws:iam::705795420405:instance-profile/ec2S3',\n",
      "                                                         'Id': 'AIPAJ3YUBYTZYCIDR5E52'},\n",
      "                                  'ImageId': 'ami-0782e9ee97725263d',\n",
      "                                  'InstanceId': 'i-0988d4f36e5f5632d',\n",
      "                                  'InstanceType': 't2.micro',\n",
      "                                  'KeyName': 'btckp',\n",
      "                                  'LaunchTime': datetime.datetime(2018, 10, 14, 21, 1, 44, tzinfo=tzlocal()),\n",
      "                                  'Monitoring': {'State': 'disabled'},\n",
      "                                  'NetworkInterfaces': [{'Association': {'IpOwnerId': 'amazon',\n",
      "                                                                         'PublicDnsName': 'ec2-18-188-192-50.us-east-2.compute.amazonaws.com',\n",
      "                                                                         'PublicIp': '18.188.192.50'},\n",
      "                                                         'Attachment': {'AttachTime': datetime.datetime(2018, 10, 14, 21, 1, 44, tzinfo=tzlocal()),\n",
      "                                                                        'AttachmentId': 'eni-attach-0422b10f7c72f7a88',\n",
      "                                                                        'DeleteOnTermination': True,\n",
      "                                                                        'DeviceIndex': 0,\n",
      "                                                                        'Status': 'attached'},\n",
      "                                                         'Description': 'Primary '\n",
      "                                                                        'network '\n",
      "                                                                        'interface',\n",
      "                                                         'Groups': [{'GroupId': 'sg-0a892b41a9e1b2706',\n",
      "                                                                     'GroupName': 'btc-my-access'},\n",
      "                                                                    {'GroupId': 'sg-09d2635e643b3b3b0',\n",
      "                                                                     'GroupName': 'btc-public-sg'}],\n",
      "                                                         'Ipv6Addresses': [],\n",
      "                                                         'MacAddress': '02:cd:4e:b7:d7:0a',\n",
      "                                                         'NetworkInterfaceId': 'eni-0e2279e0f49a4030e',\n",
      "                                                         'OwnerId': '705795420405',\n",
      "                                                         'PrivateDnsName': 'ip-10-123-1-50.us-east-2.compute.internal',\n",
      "                                                         'PrivateIpAddress': '10.123.1.50',\n",
      "                                                         'PrivateIpAddresses': [{'Association': {'IpOwnerId': 'amazon',\n",
      "                                                                                                 'PublicDnsName': 'ec2-18-188-192-50.us-east-2.compute.amazonaws.com',\n",
      "                                                                                                 'PublicIp': '18.188.192.50'},\n",
      "                                                                                 'Primary': True,\n",
      "                                                                                 'PrivateDnsName': 'ip-10-123-1-50.us-east-2.compute.internal',\n",
      "                                                                                 'PrivateIpAddress': '10.123.1.50'}],\n",
      "                                                         'SourceDestCheck': True,\n",
      "                                                         'Status': 'in-use',\n",
      "                                                         'SubnetId': 'subnet-01b2a7fdd69f50761',\n",
      "                                                         'VpcId': 'vpc-04e13f6642b72a943'}],\n",
      "                                  'Placement': {'AvailabilityZone': 'us-east-2a',\n",
      "                                                'GroupName': '',\n",
      "                                                'Tenancy': 'default'},\n",
      "                                  'PrivateDnsName': 'ip-10-123-1-50.us-east-2.compute.internal',\n",
      "                                  'PrivateIpAddress': '10.123.1.50',\n",
      "                                  'ProductCodes': [],\n",
      "                                  'PublicDnsName': 'ec2-18-188-192-50.us-east-2.compute.amazonaws.com',\n",
      "                                  'PublicIpAddress': '18.188.192.50',\n",
      "                                  'RootDeviceName': '/dev/sda1',\n",
      "                                  'RootDeviceType': 'ebs',\n",
      "                                  'SecurityGroups': [{'GroupId': 'sg-0a892b41a9e1b2706',\n",
      "                                                      'GroupName': 'btc-my-access'},\n",
      "                                                     {'GroupId': 'sg-09d2635e643b3b3b0',\n",
      "                                                      'GroupName': 'btc-public-sg'}],\n",
      "                                  'SourceDestCheck': True,\n",
      "                                  'State': {'Code': 16, 'Name': 'running'},\n",
      "                                  'StateTransitionReason': '',\n",
      "                                  'SubnetId': 'subnet-01b2a7fdd69f50761',\n",
      "                                  'Tags': [{'Key': 'Name', 'Value': 'btcwp'}],\n",
      "                                  'VirtualizationType': 'hvm',\n",
      "                                  'VpcId': 'vpc-04e13f6642b72a943'}],\n",
      "                   'OwnerId': '705795420405',\n",
      "                   'ReservationId': 'r-06061d00831898699'},\n",
      "                  {'Groups': [],\n",
      "                   'Instances': [{'AmiLaunchIndex': 0,\n",
      "                                  'Architecture': 'x86_64',\n",
      "                                  'BlockDeviceMappings': [{'DeviceName': '/dev/xvda',\n",
      "                                                           'Ebs': {'AttachTime': datetime.datetime(2018, 10, 22, 4, 48, 19, tzinfo=tzlocal()),\n",
      "                                                                   'DeleteOnTermination': True,\n",
      "                                                                   'Status': 'attached',\n",
      "                                                                   'VolumeId': 'vol-0953e7b4fff18cebf'}}],\n",
      "                                  'ClientToken': 'aws-c-Insta-102CZUJVBFP3D',\n",
      "                                  'CpuOptions': {'CoreCount': 1,\n",
      "                                                 'ThreadsPerCore': 1},\n",
      "                                  'EbsOptimized': False,\n",
      "                                  'EnaSupport': True,\n",
      "                                  'Hypervisor': 'xen',\n",
      "                                  'ImageId': 'ami-001a2324d87c43769',\n",
      "                                  'InstanceId': 'i-0fd582504439a804b',\n",
      "                                  'InstanceType': 't2.micro',\n",
      "                                  'LaunchTime': datetime.datetime(2018, 10, 25, 12, 18, 17, tzinfo=tzlocal()),\n",
      "                                  'Monitoring': {'State': 'disabled'},\n",
      "                                  'NetworkInterfaces': [{'Association': {'IpOwnerId': '705795420405',\n",
      "                                                                         'PublicDnsName': 'ec2-18-220-59-171.us-east-2.compute.amazonaws.com',\n",
      "                                                                         'PublicIp': '18.220.59.171'},\n",
      "                                                         'Attachment': {'AttachTime': datetime.datetime(2018, 10, 22, 4, 48, 18, tzinfo=tzlocal()),\n",
      "                                                                        'AttachmentId': 'eni-attach-0799071460d228df9',\n",
      "                                                                        'DeleteOnTermination': True,\n",
      "                                                                        'DeviceIndex': 0,\n",
      "                                                                        'Status': 'attached'},\n",
      "                                                         'Description': '',\n",
      "                                                         'Groups': [{'GroupId': 'sg-08b941d33ca29dc13',\n",
      "                                                                     'GroupName': 'aws-cloud9-btcdev-682aed223aba44d9b2c30e82de2a7a57-InstanceSecurityGroup-E6KL6UWTUITX'}],\n",
      "                                                         'Ipv6Addresses': [],\n",
      "                                                         'MacAddress': '02:90:5d:e6:1e:7c',\n",
      "                                                         'NetworkInterfaceId': 'eni-0e627931aa991e106',\n",
      "                                                         'OwnerId': '705795420405',\n",
      "                                                         'PrivateDnsName': 'ip-10-123-1-73.us-east-2.compute.internal',\n",
      "                                                         'PrivateIpAddress': '10.123.1.73',\n",
      "                                                         'PrivateIpAddresses': [{'Association': {'IpOwnerId': '705795420405',\n",
      "                                                                                                 'PublicDnsName': 'ec2-18-220-59-171.us-east-2.compute.amazonaws.com',\n",
      "                                                                                                 'PublicIp': '18.220.59.171'},\n",
      "                                                                                 'Primary': True,\n",
      "                                                                                 'PrivateDnsName': 'ip-10-123-1-73.us-east-2.compute.internal',\n",
      "                                                                                 'PrivateIpAddress': '10.123.1.73'}],\n",
      "                                                         'SourceDestCheck': True,\n",
      "                                                         'Status': 'in-use',\n",
      "                                                         'SubnetId': 'subnet-01b2a7fdd69f50761',\n",
      "                                                         'VpcId': 'vpc-04e13f6642b72a943'}],\n",
      "                                  'Placement': {'AvailabilityZone': 'us-east-2a',\n",
      "                                                'GroupName': '',\n",
      "                                                'Tenancy': 'default'},\n",
      "                                  'PrivateDnsName': 'ip-10-123-1-73.us-east-2.compute.internal',\n",
      "                                  'PrivateIpAddress': '10.123.1.73',\n",
      "                                  'ProductCodes': [],\n",
      "                                  'PublicDnsName': 'ec2-18-220-59-171.us-east-2.compute.amazonaws.com',\n",
      "                                  'PublicIpAddress': '18.220.59.171',\n",
      "                                  'RootDeviceName': '/dev/xvda',\n",
      "                                  'RootDeviceType': 'ebs',\n",
      "                                  'SecurityGroups': [{'GroupId': 'sg-08b941d33ca29dc13',\n",
      "                                                      'GroupName': 'aws-cloud9-btcdev-682aed223aba44d9b2c30e82de2a7a57-InstanceSecurityGroup-E6KL6UWTUITX'}],\n",
      "                                  'SourceDestCheck': True,\n",
      "                                  'State': {'Code': 80, 'Name': 'stopped'},\n",
      "                                  'StateReason': {'Code': 'Client.InstanceInitiatedShutdown',\n",
      "                                                  'Message': 'Client.InstanceInitiatedShutdown: '\n",
      "                                                             'Instance '\n",
      "                                                             'initiated '\n",
      "                                                             'shutdown'},\n",
      "                                  'StateTransitionReason': '',\n",
      "                                  'SubnetId': 'subnet-01b2a7fdd69f50761',\n",
      "                                  'Tags': [{'Key': 'aws:cloud9:environment',\n",
      "                                            'Value': '682aed223aba44d9b2c30e82de2a7a57'},\n",
      "                                           {'Key': 'aws:cloud9:owner',\n",
      "                                            'Value': 'AIDAI3ZLEVT225GV7M3FU'},\n",
      "                                           {'Key': 'aws:cloudformation:stack-id',\n",
      "                                            'Value': 'arn:aws:cloudformation:us-east-2:705795420405:stack/aws-cloud9-btcdev-682aed223aba44d9b2c30e82de2a7a57/ab59b520-d5b5-11e8-8ee1-069bf518e2a4'},\n",
      "                                           {'Key': 'aws:cloudformation:logical-id',\n",
      "                                            'Value': 'Instance'},\n",
      "                                           {'Key': 'Name',\n",
      "                                            'Value': 'aws-cloud9-btcdev-682aed223aba44d9b2c30e82de2a7a57'},\n",
      "                                           {'Key': 'aws:cloudformation:stack-name',\n",
      "                                            'Value': 'aws-cloud9-btcdev-682aed223aba44d9b2c30e82de2a7a57'}],\n",
      "                                  'VirtualizationType': 'hvm',\n",
      "                                  'VpcId': 'vpc-04e13f6642b72a943'}],\n",
      "                   'OwnerId': '705795420405',\n",
      "                   'RequesterId': '043320173835',\n",
      "                   'ReservationId': 'r-0dce2c7597a2e40aa'},\n",
      "                  {'Groups': [],\n",
      "                   'Instances': [{'AmiLaunchIndex': 0,\n",
      "                                  'Architecture': 'x86_64',\n",
      "                                  'BlockDeviceMappings': [{'DeviceName': '/dev/xvda',\n",
      "                                                           'Ebs': {'AttachTime': datetime.datetime(2018, 10, 24, 18, 34, 44, tzinfo=tzlocal()),\n",
      "                                                                   'DeleteOnTermination': True,\n",
      "                                                                   'Status': 'attached',\n",
      "                                                                   'VolumeId': 'vol-082350dcf00215bf9'}}],\n",
      "                                  'ClientToken': '',\n",
      "                                  'CpuOptions': {'CoreCount': 1,\n",
      "                                                 'ThreadsPerCore': 1},\n",
      "                                  'EbsOptimized': False,\n",
      "                                  'EnaSupport': True,\n",
      "                                  'Hypervisor': 'xen',\n",
      "                                  'IamInstanceProfile': {'Arn': 'arn:aws:iam::705795420405:instance-profile/admin',\n",
      "                                                         'Id': 'AIPAJN2B5HSGGRAEATPHO'},\n",
      "                                  'ImageId': 'ami-0b59bfac6be064b78',\n",
      "                                  'InstanceId': 'i-0370704a135634d91',\n",
      "                                  'InstanceType': 't2.micro',\n",
      "                                  'KeyName': 'btckp',\n",
      "                                  'LaunchTime': datetime.datetime(2018, 10, 24, 18, 34, 43, tzinfo=tzlocal()),\n",
      "                                  'Monitoring': {'State': 'disabled'},\n",
      "                                  'NetworkInterfaces': [{'Association': {'IpOwnerId': 'amazon',\n",
      "                                                                         'PublicDnsName': 'ec2-18-191-205-113.us-east-2.compute.amazonaws.com',\n",
      "                                                                         'PublicIp': '18.191.205.113'},\n",
      "                                                         'Attachment': {'AttachTime': datetime.datetime(2018, 10, 24, 18, 34, 43, tzinfo=tzlocal()),\n",
      "                                                                        'AttachmentId': 'eni-attach-0a60b5905ca735ec6',\n",
      "                                                                        'DeleteOnTermination': True,\n",
      "                                                                        'DeviceIndex': 0,\n",
      "                                                                        'Status': 'attached'},\n",
      "                                                         'Description': 'Primary '\n",
      "                                                                        'network '\n",
      "                                                                        'interface',\n",
      "                                                         'Groups': [{'GroupId': 'sg-0a892b41a9e1b2706',\n",
      "                                                                     'GroupName': 'btc-my-access'},\n",
      "                                                                    {'GroupId': 'sg-0070ed5b2d387b362',\n",
      "                                                                     'GroupName': 'btc-private-sg'}],\n",
      "                                                         'Ipv6Addresses': [],\n",
      "                                                         'MacAddress': '02:44:fa:8e:86:36',\n",
      "                                                         'NetworkInterfaceId': 'eni-0a19fbf8e7677ca28',\n",
      "                                                         'OwnerId': '705795420405',\n",
      "                                                         'PrivateDnsName': 'ip-10-123-1-141.us-east-2.compute.internal',\n",
      "                                                         'PrivateIpAddress': '10.123.1.141',\n",
      "                                                         'PrivateIpAddresses': [{'Association': {'IpOwnerId': 'amazon',\n",
      "                                                                                                 'PublicDnsName': 'ec2-18-191-205-113.us-east-2.compute.amazonaws.com',\n",
      "                                                                                                 'PublicIp': '18.191.205.113'},\n",
      "                                                                                 'Primary': True,\n",
      "                                                                                 'PrivateDnsName': 'ip-10-123-1-141.us-east-2.compute.internal',\n",
      "                                                                                 'PrivateIpAddress': '10.123.1.141'}],\n",
      "                                                         'SourceDestCheck': True,\n",
      "                                                         'Status': 'in-use',\n",
      "                                                         'SubnetId': 'subnet-01b2a7fdd69f50761',\n",
      "                                                         'VpcId': 'vpc-04e13f6642b72a943'}],\n",
      "                                  'Placement': {'AvailabilityZone': 'us-east-2a',\n",
      "                                                'GroupName': '',\n",
      "                                                'Tenancy': 'default'},\n",
      "                                  'PrivateDnsName': 'ip-10-123-1-141.us-east-2.compute.internal',\n",
      "                                  'PrivateIpAddress': '10.123.1.141',\n",
      "                                  'ProductCodes': [],\n",
      "                                  'PublicDnsName': 'ec2-18-191-205-113.us-east-2.compute.amazonaws.com',\n",
      "                                  'PublicIpAddress': '18.191.205.113',\n",
      "                                  'RootDeviceName': '/dev/xvda',\n",
      "                                  'RootDeviceType': 'ebs',\n",
      "                                  'SecurityGroups': [{'GroupId': 'sg-0a892b41a9e1b2706',\n",
      "                                                      'GroupName': 'btc-my-access'},\n",
      "                                                     {'GroupId': 'sg-0070ed5b2d387b362',\n",
      "                                                      'GroupName': 'btc-private-sg'}],\n",
      "                                  'SourceDestCheck': True,\n",
      "                                  'State': {'Code': 16, 'Name': 'running'},\n",
      "                                  'StateReason': {'Code': '', 'Message': ''},\n",
      "                                  'StateTransitionReason': '',\n",
      "                                  'SubnetId': 'subnet-01b2a7fdd69f50761',\n",
      "                                  'Tags': [{'Key': 'Name',\n",
      "                                            'Value': 'jupyterFinal'}],\n",
      "                                  'VirtualizationType': 'hvm',\n",
      "                                  'VpcId': 'vpc-04e13f6642b72a943'}],\n",
      "                   'OwnerId': '705795420405',\n",
      "                   'ReservationId': 'r-0608edb25e0eb7640'}],\n",
      " 'ResponseMetadata': {'HTTPHeaders': {'content-type': 'text/xml;charset=UTF-8',\n",
      "                                      'date': 'Tue, 30 Oct 2018 14:58:35 GMT',\n",
      "                                      'server': 'AmazonEC2',\n",
      "                                      'transfer-encoding': 'chunked',\n",
      "                                      'vary': 'Accept-Encoding'},\n",
      "                      'HTTPStatusCode': 200,\n",
      "                      'RequestId': '9342dbc5-a600-4742-8fb6-52588e8d6ee5',\n",
      "                      'RetryAttempts': 0}}\n"
     ]
    }
   ],
   "source": [
    "ec2 = boto3.client('ec2', region_name='us-east-2')\n",
    "response = ec2.describe_instances()\n",
    "pprint(response)"
   ]
  },
  {
   "cell_type": "markdown",
   "metadata": {},
   "source": [
    "### That was a lot of output, let's try to get something useful! "
   ]
  },
  {
   "cell_type": "code",
   "execution_count": 134,
   "metadata": {},
   "outputs": [
    {
     "name": "stdout",
     "output_type": "stream",
     "text": [
      "'18.188.192.50'\n"
     ]
    }
   ],
   "source": [
    "pprint(response['Reservations'][0]['Instances'][0]['NetworkInterfaces'][0]['PrivateIpAddresses'][0]['Association']['PublicIp'])"
   ]
  },
  {
   "cell_type": "markdown",
   "metadata": {},
   "source": [
    "### Nice! We now have our Public IP address! Sure, that took a lot of typing, but now we have it!"
   ]
  },
  {
   "cell_type": "markdown",
   "metadata": {},
   "source": [
    "Dealing with the amount of information spit out from a `describe_instances` call can certainly be a little unweildy, but after enough practice, it will be second nature. And if you create functions to handle it, it can be quite easy!"
   ]
  },
  {
   "cell_type": "code",
   "execution_count": 122,
   "metadata": {},
   "outputs": [],
   "source": [
    "def pubip(id):\n",
    "    response = ec2.describe_instances()\n",
    "    pprint(response['Reservations'][id]['Instances'][id]['NetworkInterfaces'][id]['PrivateIpAddresses'][id]['Association']['PublicIp'])"
   ]
  },
  {
   "cell_type": "code",
   "execution_count": 123,
   "metadata": {},
   "outputs": [
    {
     "name": "stdout",
     "output_type": "stream",
     "text": [
      "'18.188.192.50'\n"
     ]
    }
   ],
   "source": [
    "pubip(0)"
   ]
  },
  {
   "cell_type": "markdown",
   "metadata": {},
   "source": [
    "### Unfortunately, most environments will have more than one instance with more than one interface. \n",
    "As you can see, you have several different areas where multiple items could be a hassle. This only provides the first Reservation, Instance, NetworkInterface, PrivateIpAddress, Association, and PublicIp. By providing additional values to the function based on the complexity of the environment, it should be fairly easy to create a function that will work for you. Since this is an entry-level tutorial, we aren't going to go into all of the cases, but be aware that it isn't too difficult to query much more advanced environments with minimal additional effort!"
   ]
  },
  {
   "cell_type": "markdown",
   "metadata": {},
   "source": [
    "### Let's query some more resources in our environment to get familiar! "
   ]
  },
  {
   "cell_type": "code",
   "execution_count": 124,
   "metadata": {},
   "outputs": [
    {
     "name": "stdout",
     "output_type": "stream",
     "text": [
      "{'ResponseMetadata': {'HTTPHeaders': {'content-length': '3287',\n",
      "                                      'content-type': 'text/xml;charset=UTF-8',\n",
      "                                      'date': 'Sat, 27 Oct 2018 06:35:33 GMT',\n",
      "                                      'server': 'AmazonEC2',\n",
      "                                      'vary': 'Accept-Encoding'},\n",
      "                      'HTTPStatusCode': 200,\n",
      "                      'RequestId': '80fc40e3-27b5-405f-9cc7-5f2546f8b554',\n",
      "                      'RetryAttempts': 0},\n",
      " 'Vpcs': [{'CidrBlock': '172.31.0.0/16',\n",
      "           'CidrBlockAssociationSet': [{'AssociationId': 'vpc-cidr-assoc-f7f8449f',\n",
      "                                        'CidrBlock': '172.31.0.0/16',\n",
      "                                        'CidrBlockState': {'State': 'associated'}}],\n",
      "           'DhcpOptionsId': 'dopt-882245e0',\n",
      "           'InstanceTenancy': 'default',\n",
      "           'IsDefault': True,\n",
      "           'State': 'available',\n",
      "           'Tags': [{'Key': 'Name', 'Value': 'vpc0'}],\n",
      "           'VpcId': 'vpc-63bc340b'},\n",
      "          {'CidrBlock': '10.0.0.0/16',\n",
      "           'CidrBlockAssociationSet': [{'AssociationId': 'vpc-cidr-assoc-05c54d5dd55f5ca67',\n",
      "                                        'CidrBlock': '10.0.0.0/16',\n",
      "                                        'CidrBlockState': {'State': 'associated'}}],\n",
      "           'DhcpOptionsId': 'dopt-882245e0',\n",
      "           'InstanceTenancy': 'default',\n",
      "           'IsDefault': False,\n",
      "           'State': 'available',\n",
      "           'Tags': [{'Key': 'aws:cloudformation:logical-id', 'Value': 'Vpc'},\n",
      "                    {'Key': 'aws:cloudformation:stack-id',\n",
      "                     'Value': 'arn:aws:cloudformation:us-east-2:705795420405:stack/EC2ContainerService-default/56c2a5a0-29b0-11e8-8f5b-50faf8c48c56'},\n",
      "                    {'Key': 'aws:cloudformation:stack-name',\n",
      "                     'Value': 'EC2ContainerService-default'}],\n",
      "           'VpcId': 'vpc-001e5bd286a974b21'},\n",
      "          {'CidrBlock': '10.123.0.0/16',\n",
      "           'CidrBlockAssociationSet': [{'AssociationId': 'vpc-cidr-assoc-031a5b683ac26b85a',\n",
      "                                        'CidrBlock': '10.123.0.0/16',\n",
      "                                        'CidrBlockState': {'State': 'associated'}}],\n",
      "           'DhcpOptionsId': 'dopt-882245e0',\n",
      "           'InstanceTenancy': 'default',\n",
      "           'IsDefault': False,\n",
      "           'State': 'available',\n",
      "           'Tags': [{'Key': 'Name', 'Value': 'btc-primary'}],\n",
      "           'VpcId': 'vpc-04e13f6642b72a943'}]}\n"
     ]
    }
   ],
   "source": [
    "vpcs = ec2.describe_vpcs()\n",
    "pprint(vpcs)"
   ]
  },
  {
   "cell_type": "code",
   "execution_count": 125,
   "metadata": {},
   "outputs": [
    {
     "name": "stdout",
     "output_type": "stream",
     "text": [
      "{'CidrBlock': '172.31.0.0/16',\n",
      " 'CidrBlockAssociationSet': [{'AssociationId': 'vpc-cidr-assoc-f7f8449f',\n",
      "                              'CidrBlock': '172.31.0.0/16',\n",
      "                              'CidrBlockState': {'State': 'associated'}}],\n",
      " 'DhcpOptionsId': 'dopt-882245e0',\n",
      " 'InstanceTenancy': 'default',\n",
      " 'IsDefault': True,\n",
      " 'State': 'available',\n",
      " 'Tags': [{'Key': 'Name', 'Value': 'vpc0'}],\n",
      " 'VpcId': 'vpc-63bc340b'}\n"
     ]
    }
   ],
   "source": [
    "pprint(vpcs['Vpcs'][0])"
   ]
  },
  {
   "cell_type": "code",
   "execution_count": 126,
   "metadata": {},
   "outputs": [
    {
     "name": "stdout",
     "output_type": "stream",
     "text": [
      "{'ResponseMetadata': {'HTTPHeaders': {'content-length': '7188',\n",
      "                                      'content-type': 'text/xml;charset=UTF-8',\n",
      "                                      'date': 'Sat, 27 Oct 2018 06:35:35 GMT',\n",
      "                                      'server': 'AmazonEC2',\n",
      "                                      'vary': 'Accept-Encoding'},\n",
      "                      'HTTPStatusCode': 200,\n",
      "                      'RequestId': 'a1a48d29-256b-4074-9fa1-b6553ea0ed46',\n",
      "                      'RetryAttempts': 0},\n",
      " 'Subnets': [{'AssignIpv6AddressOnCreation': False,\n",
      "              'AvailabilityZone': 'us-east-2c',\n",
      "              'AvailableIpAddressCount': 4091,\n",
      "              'CidrBlock': '172.31.32.0/20',\n",
      "              'DefaultForAz': True,\n",
      "              'Ipv6CidrBlockAssociationSet': [],\n",
      "              'MapPublicIpOnLaunch': True,\n",
      "              'State': 'available',\n",
      "              'SubnetId': 'subnet-faa292b7',\n",
      "              'VpcId': 'vpc-63bc340b'},\n",
      "             {'AssignIpv6AddressOnCreation': False,\n",
      "              'AvailabilityZone': 'us-east-2b',\n",
      "              'AvailableIpAddressCount': 251,\n",
      "              'CidrBlock': '10.123.12.0/24',\n",
      "              'DefaultForAz': False,\n",
      "              'Ipv6CidrBlockAssociationSet': [],\n",
      "              'MapPublicIpOnLaunch': False,\n",
      "              'State': 'available',\n",
      "              'SubnetId': 'subnet-0d97b137253de4096',\n",
      "              'Tags': [{'Key': 'Name', 'Value': 'btc-private-b'}],\n",
      "              'VpcId': 'vpc-04e13f6642b72a943'},\n",
      "             {'AssignIpv6AddressOnCreation': False,\n",
      "              'AvailabilityZone': 'us-east-2c',\n",
      "              'AvailableIpAddressCount': 251,\n",
      "              'CidrBlock': '10.123.103.0/24',\n",
      "              'DefaultForAz': False,\n",
      "              'Ipv6CidrBlockAssociationSet': [],\n",
      "              'MapPublicIpOnLaunch': False,\n",
      "              'State': 'available',\n",
      "              'SubnetId': 'subnet-0c6aa296aa86e6317',\n",
      "              'Tags': [{'Key': 'Name', 'Value': 'btc-db-c'}],\n",
      "              'VpcId': 'vpc-04e13f6642b72a943'},\n",
      "             {'AssignIpv6AddressOnCreation': False,\n",
      "              'AvailabilityZone': 'us-east-2b',\n",
      "              'AvailableIpAddressCount': 4091,\n",
      "              'CidrBlock': '172.31.16.0/20',\n",
      "              'DefaultForAz': True,\n",
      "              'Ipv6CidrBlockAssociationSet': [],\n",
      "              'MapPublicIpOnLaunch': True,\n",
      "              'State': 'available',\n",
      "              'SubnetId': 'subnet-82a460f8',\n",
      "              'VpcId': 'vpc-63bc340b'},\n",
      "             {'AssignIpv6AddressOnCreation': False,\n",
      "              'AvailabilityZone': 'us-east-2a',\n",
      "              'AvailableIpAddressCount': 4091,\n",
      "              'CidrBlock': '172.31.0.0/20',\n",
      "              'DefaultForAz': True,\n",
      "              'Ipv6CidrBlockAssociationSet': [],\n",
      "              'MapPublicIpOnLaunch': True,\n",
      "              'State': 'available',\n",
      "              'SubnetId': 'subnet-53ce423b',\n",
      "              'VpcId': 'vpc-63bc340b'},\n",
      "             {'AssignIpv6AddressOnCreation': False,\n",
      "              'AvailabilityZone': 'us-east-2a',\n",
      "              'AvailableIpAddressCount': 251,\n",
      "              'CidrBlock': '10.123.11.0/24',\n",
      "              'DefaultForAz': False,\n",
      "              'Ipv6CidrBlockAssociationSet': [],\n",
      "              'MapPublicIpOnLaunch': False,\n",
      "              'State': 'available',\n",
      "              'SubnetId': 'subnet-08397609b313906a1',\n",
      "              'Tags': [{'Key': 'Name', 'Value': 'btc-private-a'}],\n",
      "              'VpcId': 'vpc-04e13f6642b72a943'},\n",
      "             {'AssignIpv6AddressOnCreation': False,\n",
      "              'AvailabilityZone': 'us-east-2a',\n",
      "              'AvailableIpAddressCount': 250,\n",
      "              'CidrBlock': '10.123.101.0/24',\n",
      "              'DefaultForAz': False,\n",
      "              'Ipv6CidrBlockAssociationSet': [],\n",
      "              'MapPublicIpOnLaunch': False,\n",
      "              'State': 'available',\n",
      "              'SubnetId': 'subnet-0adabb4585c9f9a25',\n",
      "              'Tags': [{'Key': 'Name', 'Value': 'btc-db-a'}],\n",
      "              'VpcId': 'vpc-04e13f6642b72a943'},\n",
      "             {'AssignIpv6AddressOnCreation': False,\n",
      "              'AvailabilityZone': 'us-east-2b',\n",
      "              'AvailableIpAddressCount': 250,\n",
      "              'CidrBlock': '10.123.2.0/24',\n",
      "              'DefaultForAz': False,\n",
      "              'Ipv6CidrBlockAssociationSet': [],\n",
      "              'MapPublicIpOnLaunch': False,\n",
      "              'State': 'available',\n",
      "              'SubnetId': 'subnet-0b2c6b9d0c3d5d973',\n",
      "              'Tags': [{'Key': 'Name', 'Value': 'btc-public-b'}],\n",
      "              'VpcId': 'vpc-04e13f6642b72a943'},\n",
      "             {'AssignIpv6AddressOnCreation': False,\n",
      "              'AvailabilityZone': 'us-east-2a',\n",
      "              'AvailableIpAddressCount': 245,\n",
      "              'CidrBlock': '10.123.1.0/24',\n",
      "              'DefaultForAz': False,\n",
      "              'Ipv6CidrBlockAssociationSet': [],\n",
      "              'MapPublicIpOnLaunch': False,\n",
      "              'State': 'available',\n",
      "              'SubnetId': 'subnet-01b2a7fdd69f50761',\n",
      "              'Tags': [{'Key': 'Name', 'Value': 'btc-public-a'}],\n",
      "              'VpcId': 'vpc-04e13f6642b72a943'},\n",
      "             {'AssignIpv6AddressOnCreation': False,\n",
      "              'AvailabilityZone': 'us-east-2b',\n",
      "              'AvailableIpAddressCount': 251,\n",
      "              'CidrBlock': '10.123.102.0/24',\n",
      "              'DefaultForAz': False,\n",
      "              'Ipv6CidrBlockAssociationSet': [],\n",
      "              'MapPublicIpOnLaunch': False,\n",
      "              'State': 'available',\n",
      "              'SubnetId': 'subnet-09c43d0ee0de538e1',\n",
      "              'Tags': [{'Key': 'Name', 'Value': 'btc-db-b'}],\n",
      "              'VpcId': 'vpc-04e13f6642b72a943'}]}\n"
     ]
    }
   ],
   "source": [
    "subnets = ec2.describe_subnets()\n",
    "pprint(subnets)"
   ]
  },
  {
   "cell_type": "code",
   "execution_count": 127,
   "metadata": {},
   "outputs": [
    {
     "name": "stdout",
     "output_type": "stream",
     "text": [
      "{'AssignIpv6AddressOnCreation': False,\n",
      " 'AvailabilityZone': 'us-east-2c',\n",
      " 'AvailableIpAddressCount': 4091,\n",
      " 'CidrBlock': '172.31.32.0/20',\n",
      " 'DefaultForAz': True,\n",
      " 'Ipv6CidrBlockAssociationSet': [],\n",
      " 'MapPublicIpOnLaunch': True,\n",
      " 'State': 'available',\n",
      " 'SubnetId': 'subnet-faa292b7',\n",
      " 'VpcId': 'vpc-63bc340b'}\n"
     ]
    }
   ],
   "source": [
    "pprint(subnets['Subnets'][0])"
   ]
  },
  {
   "cell_type": "markdown",
   "metadata": {},
   "source": [
    "### Let's extract the VPC ID from our VPC and add a Name tag of \"vpc0\" if one doesn't already exist: "
   ]
  },
  {
   "cell_type": "code",
   "execution_count": 135,
   "metadata": {},
   "outputs": [
    {
     "name": "stdout",
     "output_type": "stream",
     "text": [
      "vpc-63bc340b\n"
     ]
    }
   ],
   "source": [
    "vpcs = ec2.describe_vpcs()\n",
    "vpcId = vpcs['Vpcs'][0]['VpcId']\n",
    "print(vpcId)"
   ]
  },
  {
   "cell_type": "code",
   "execution_count": 136,
   "metadata": {},
   "outputs": [],
   "source": [
    "newTag = ec2.create_tags(\n",
    "    Resources = [\n",
    "        vpcId\n",
    "    ],\n",
    "    Tags=[\n",
    "        {\n",
    "            'Key': 'Name',\n",
    "            'Value': 'vpc0'\n",
    "        },\n",
    "    ]\n",
    "\n",
    ")"
   ]
  },
  {
   "cell_type": "markdown",
   "metadata": {},
   "source": [
    "### Ok great! Now, before we go, let's peform a filter operation to quickly find the VPC ID of the VPC with a \"Name\" tag of Value of \"vpc0\".\n",
    "Take note, if you have not added a name tag to your VPC, this won't work for you. "
   ]
  },
  {
   "cell_type": "code",
   "execution_count": 137,
   "metadata": {},
   "outputs": [],
   "source": [
    "vpc0 = ec2.describe_vpcs(\n",
    "    Filters=[\n",
    "        {\n",
    "        'Name': 'tag:Name',\n",
    "        'Values': [\n",
    "            'vpc0'\n",
    "        ]\n",
    "    }\n",
    "])"
   ]
  },
  {
   "cell_type": "code",
   "execution_count": 138,
   "metadata": {},
   "outputs": [
    {
     "name": "stdout",
     "output_type": "stream",
     "text": [
      "{'ResponseMetadata': {'HTTPHeaders': {'content-length': '1081',\n",
      "                                      'content-type': 'text/xml;charset=UTF-8',\n",
      "                                      'date': 'Tue, 30 Oct 2018 15:02:53 GMT',\n",
      "                                      'server': 'AmazonEC2'},\n",
      "                      'HTTPStatusCode': 200,\n",
      "                      'RequestId': 'ecac471e-faa7-4eb7-ad2b-7adfb7f272fa',\n",
      "                      'RetryAttempts': 0},\n",
      " 'Vpcs': [{'CidrBlock': '172.31.0.0/16',\n",
      "           'CidrBlockAssociationSet': [{'AssociationId': 'vpc-cidr-assoc-f7f8449f',\n",
      "                                        'CidrBlock': '172.31.0.0/16',\n",
      "                                        'CidrBlockState': {'State': 'associated'}}],\n",
      "           'DhcpOptionsId': 'dopt-882245e0',\n",
      "           'InstanceTenancy': 'default',\n",
      "           'IsDefault': True,\n",
      "           'State': 'available',\n",
      "           'Tags': [{'Key': 'Name', 'Value': 'vpc0'}],\n",
      "           'VpcId': 'vpc-63bc340b'}]}\n"
     ]
    }
   ],
   "source": [
    "pprint(vpc0)"
   ]
  },
  {
   "cell_type": "code",
   "execution_count": 132,
   "metadata": {},
   "outputs": [
    {
     "name": "stdout",
     "output_type": "stream",
     "text": [
      "'vpc-63bc340b'\n"
     ]
    }
   ],
   "source": [
    "pprint(vpc0['Vpcs'][0]['VpcId'])"
   ]
  },
  {
   "cell_type": "markdown",
   "metadata": {},
   "source": [
    "### Great! We've performed some basic boto3 queries, so this lesson is complete! Keep an eye on my blog at https://www.bravethecloud.com for future installments! "
   ]
  },
  {
   "cell_type": "markdown",
   "metadata": {},
   "source": [
    "### Command Review"
   ]
  },
  {
   "cell_type": "markdown",
   "metadata": {},
   "source": [
    "##### To start querying ec2 resources, you need to setup the boto3 client:\n",
    "ec2 = boto3.client('ec2', region_name='us-east-2')"
   ]
  },
  {
   "cell_type": "markdown",
   "metadata": {},
   "source": [
    "##### Commands used in this tutorial:\n",
    "ec2.describe_instances() <br>\n",
    "ec2.describe_vpcs() <br>\n",
    "ec2.create_tags()"
   ]
  },
  {
   "cell_type": "code",
   "execution_count": null,
   "metadata": {},
   "outputs": [],
   "source": []
  }
 ],
 "metadata": {
  "kernelspec": {
   "display_name": "Python 3",
   "language": "python",
   "name": "python3"
  },
  "language_info": {
   "codemirror_mode": {
    "name": "ipython",
    "version": 3
   },
   "file_extension": ".py",
   "mimetype": "text/x-python",
   "name": "python",
   "nbconvert_exporter": "python",
   "pygments_lexer": "ipython3",
   "version": "3.7.0"
  }
 },
 "nbformat": 4,
 "nbformat_minor": 2
}
