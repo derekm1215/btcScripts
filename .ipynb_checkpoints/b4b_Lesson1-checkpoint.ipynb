{
 "cells": [
  {
   "cell_type": "markdown",
   "metadata": {},
   "source": [
    "# Boto for Bozos: Lesson 1\n",
    "### Getting started querying AWS EC2 and VPC resources with Python and Boto3"
   ]
  },
  {
   "cell_type": "markdown",
   "metadata": {},
   "source": [
    "___"
   ]
  },
  {
   "cell_type": "markdown",
   "metadata": {},
   "source": [
    "Welcome to the Boto for Bozos lesson 1! In this lesson, we are just going to start getting our feet wet. We'll install boto3, configure a session, query our current EC2 and VPC resources, add a tag to our VPC, and get the VPC ID based on that tag. Let's get started!\n",
    "\n",
    "##### *Note: Press \"ctrl+enter\" to run each cell and move to the next."
   ]
  },
  {
   "cell_type": "markdown",
   "metadata": {},
   "source": [
    "### First, let's upgrade pip"
   ]
  },
  {
   "cell_type": "code",
   "execution_count": null,
   "metadata": {},
   "outputs": [],
   "source": [
    "!pip install --upgrade pip"
   ]
  },
  {
   "cell_type": "markdown",
   "metadata": {},
   "source": [
    "### Now, let's install boto3, cython, and pprint using pip\n",
    "I purposefully left the boto3 install off of the Jupyter setup so we can perform it explicitly. I also added \"cython\", which will cause the install to throw an error if not included. 'pprint' is in the standard library, but I've added it just in case."
   ]
  },
  {
   "cell_type": "code",
   "execution_count": null,
   "metadata": {},
   "outputs": [],
   "source": [
    "!pip install boto3 cython pprint"
   ]
  },
  {
   "cell_type": "markdown",
   "metadata": {},
   "source": [
    "### Let's import boto3:"
   ]
  },
  {
   "cell_type": "code",
   "execution_count": null,
   "metadata": {},
   "outputs": [],
   "source": [
    "import boto3\n",
    "from pprint import pprint"
   ]
  },
  {
   "cell_type": "markdown",
   "metadata": {},
   "source": [
    "### Great! We're moving right along!\n",
    "Now, let's query our existing resources and poke around a bit. If you haven't deployed any EC2 instances (If you're following along using the Jupyter Notebook instructions, you should obviously have at least one), nothing will show up here, so go ahead and deploy one with a public IP address if you don't have one:"
   ]
  },
  {
   "cell_type": "code",
   "execution_count": null,
   "metadata": {},
   "outputs": [],
   "source": [
    "ec2 = boto3.client('ec2', region_name='us-east-2')\n",
    "response = ec2.describe_instances()\n",
    "pprint(response)\n",
    "# I'm not going to display the output here, but you should get a lot of information!"
   ]
  },
  {
   "cell_type": "markdown",
   "metadata": {},
   "source": [
    "### That was a lot of output, let's try to get something useful! "
   ]
  },
  {
   "cell_type": "code",
   "execution_count": null,
   "metadata": {},
   "outputs": [],
   "source": [
    "pprint(response['Reservations'][0]['Instances'][0]['NetworkInterfaces'][0]['PrivateIpAddresses'][0]['Association']['PublicIp'])\n",
    "# This should output the Public IP of your first instance"
   ]
  },
  {
   "cell_type": "markdown",
   "metadata": {},
   "source": [
    "### Nice! We now have our Public IP address! Sure, that took a lot of typing, but now we have it!"
   ]
  },
  {
   "cell_type": "markdown",
   "metadata": {},
   "source": [
    "Dealing with the amount of information spit out from a `describe_instances` call can certainly be a little unweildy, but after enough practice, it will be second nature. And if you create functions to handle it, it can be quite easy!"
   ]
  },
  {
   "cell_type": "code",
   "execution_count": null,
   "metadata": {},
   "outputs": [],
   "source": [
    "def pubip(id):\n",
    "    response = ec2.describe_instances()\n",
    "    pprint(response['Reservations'][id]['Instances'][id]['NetworkInterfaces'][id]['PrivateIpAddresses'][id]['Association']['PublicIp'])"
   ]
  },
  {
   "cell_type": "code",
   "execution_count": null,
   "metadata": {},
   "outputs": [],
   "source": [
    "pubip(0)"
   ]
  },
  {
   "cell_type": "markdown",
   "metadata": {},
   "source": [
    "### Unfortunately, most environments will have more than one instance with more than one interface. \n",
    "As you can see, you have several different areas where multiple items could be a hassle. This only provides the first Reservation, Instance, NetworkInterface, PrivateIpAddress, Association, and PublicIp. By providing additional values to the function based on the complexity of the environment, it should be fairly easy to create a function that will work for you. Since this is an entry-level tutorial, we aren't going to go into all of the cases, but be aware that it isn't too difficult to query much more advanced environments with minimal additional effort!"
   ]
  },
  {
   "cell_type": "markdown",
   "metadata": {},
   "source": [
    "### Let's query some more resources in our environment to get familiar! "
   ]
  },
  {
   "cell_type": "code",
   "execution_count": null,
   "metadata": {},
   "outputs": [],
   "source": [
    "vpcs = ec2.describe_vpcs()\n",
    "pprint(vpcs)"
   ]
  },
  {
   "cell_type": "code",
   "execution_count": null,
   "metadata": {},
   "outputs": [],
   "source": [
    "pprint(vpcs['Vpcs'][0])"
   ]
  },
  {
   "cell_type": "code",
   "execution_count": null,
   "metadata": {},
   "outputs": [],
   "source": [
    "subnets = ec2.describe_subnets()\n",
    "pprint(subnets)"
   ]
  },
  {
   "cell_type": "code",
   "execution_count": null,
   "metadata": {},
   "outputs": [],
   "source": [
    "pprint(subnets['Subnets'][0])"
   ]
  },
  {
   "cell_type": "markdown",
   "metadata": {},
   "source": [
    "### Let's extract the VPC ID from our VPC and add a Name tag of \"vpc0\" if one doesn't already exist: "
   ]
  },
  {
   "cell_type": "code",
   "execution_count": null,
   "metadata": {},
   "outputs": [],
   "source": [
    "vpcs = ec2.describe_vpcs()\n",
    "vpcId = vpcs['Vpcs'][0]['VpcId']\n",
    "print(vpcId)"
   ]
  },
  {
   "cell_type": "code",
   "execution_count": null,
   "metadata": {},
   "outputs": [],
   "source": [
    "newTag = ec2.create_tags(\n",
    "    Resources = [\n",
    "        vpcId\n",
    "    ],\n",
    "    Tags=[\n",
    "        {\n",
    "            'Key': 'Name',\n",
    "            'Value': 'vpc0'\n",
    "        },\n",
    "    ]\n",
    "\n",
    ")"
   ]
  },
  {
   "cell_type": "markdown",
   "metadata": {},
   "source": [
    "### Ok great! Now, before we go, let's peform a filter operation to quickly find the VPC ID of the VPC with a \"Name\" tag of Value of \"vpc0\".\n",
    "Take note, if you have not added a name tag to your VPC, this won't work for you. "
   ]
  },
  {
   "cell_type": "code",
   "execution_count": null,
   "metadata": {},
   "outputs": [],
   "source": [
    "vpc0 = ec2.describe_vpcs(\n",
    "    Filters=[\n",
    "        {\n",
    "        'Name': 'tag:Name',\n",
    "        'Values': [\n",
    "            'vpc0'\n",
    "        ]\n",
    "    }\n",
    "])"
   ]
  },
  {
   "cell_type": "code",
   "execution_count": null,
   "metadata": {},
   "outputs": [],
   "source": [
    "pprint(vpc0)"
   ]
  },
  {
   "cell_type": "code",
   "execution_count": null,
   "metadata": {},
   "outputs": [],
   "source": [
    "pprint(vpc0['Vpcs'][0]['VpcId'])"
   ]
  },
  {
   "cell_type": "markdown",
   "metadata": {},
   "source": [
    "### Great! We've performed some basic boto3 queries, so this lesson is complete! Keep an eye on my blog at https://www.bravethecloud.com for future installments! "
   ]
  },
  {
   "cell_type": "markdown",
   "metadata": {},
   "source": [
    "### Command Review"
   ]
  },
  {
   "cell_type": "markdown",
   "metadata": {},
   "source": [
    "##### To start querying ec2 resources, you need to setup the boto3 client:\n",
    "ec2 = boto3.client('ec2', region_name='us-east-2')"
   ]
  },
  {
   "cell_type": "markdown",
   "metadata": {},
   "source": [
    "##### Commands used in this tutorial:\n",
    "ec2.describe_instances() <br>\n",
    "ec2.describe_vpcs() <br>\n",
    "ec2.create_tags()"
   ]
  },
  {
   "cell_type": "code",
   "execution_count": null,
   "metadata": {},
   "outputs": [],
   "source": []
  }
 ],
 "metadata": {
  "kernelspec": {
   "display_name": "Python 3",
   "language": "python",
   "name": "python3"
  },
  "language_info": {
   "codemirror_mode": {
    "name": "ipython",
    "version": 3
   },
   "file_extension": ".py",
   "mimetype": "text/x-python",
   "name": "python",
   "nbconvert_exporter": "python",
   "pygments_lexer": "ipython3",
   "version": "3.7.0"
  }
 },
 "nbformat": 4,
 "nbformat_minor": 2
}
